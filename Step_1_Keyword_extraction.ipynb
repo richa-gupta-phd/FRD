{
  "nbformat": 4,
  "nbformat_minor": 0,
  "metadata": {
    "colab": {
      "provenance": [],
      "gpuType": "T4"
    },
    "kernelspec": {
      "name": "python3",
      "display_name": "Python 3"
    },
    "language_info": {
      "name": "python"
    },
    "accelerator": "GPU"
  },
  "cells": [
    {
      "cell_type": "code",
      "execution_count": null,
      "metadata": {
        "id": "E80Gxka7Qi1i"
      },
      "outputs": [],
      "source": [
        "pip install keybert\n",
        "pip install keybert[flair]\n",
        "!pip install tensorflow-probability"
      ]
    },
    {
      "cell_type": "code",
      "source": [
        "from keybert import KeyBERT"
      ],
      "metadata": {
        "id": "y8R4yteHVNr4"
      },
      "execution_count": null,
      "outputs": []
    },
    {
      "cell_type": "markdown",
      "source": [
        "SOURCE DATA"
      ],
      "metadata": {
        "id": "6MqfwXfhgFg8"
      }
    },
    {
      "cell_type": "code",
      "source": [
        "import numpy as np\n",
        "import pandas as pd"
      ],
      "metadata": {
        "id": "HdzdzxblX10W"
      },
      "execution_count": null,
      "outputs": []
    },
    {
      "cell_type": "code",
      "source": [
        "kw_model = KeyBERT()"
      ],
      "metadata": {
        "id": "jXycgKVkD8ml"
      },
      "execution_count": null,
      "outputs": []
    },
    {
      "cell_type": "code",
      "source": [
        "df_source = pd.read_csv('original review file.csv')"
      ],
      "metadata": {
        "id": "QofD-4fVgUDK"
      },
      "execution_count": null,
      "outputs": []
    },
    {
      "cell_type": "code",
      "source": [
        "df_source.head()"
      ],
      "metadata": {
        "colab": {
          "base_uri": "https://localhost:8080/",
          "height": 206
        },
        "id": "2GsCfpCagbED",
        "outputId": "63604b29-dfa1-4299-eca1-9edc3fe25104"
      },
      "execution_count": null,
      "outputs": [
        {
          "output_type": "execute_result",
          "data": {
            "text/plain": [
              "   Label                                             Review\n",
              "0     -1  The food at snack is a selection of popular Gr...\n",
              "1     -1  This little place in Soho is wonderful. I had ...\n",
              "2     -1  ordered lunch for 15 from Snack last Friday. O...\n",
              "3     -1  This is a beautiful quaint little restaurant o...\n",
              "4     -1  Snack is great place for a casual sit down lun..."
            ],
            "text/html": [
              "\n",
              "  <div id=\"df-6dbf85e7-977b-43ce-a036-4073a1855998\" class=\"colab-df-container\">\n",
              "    <div>\n",
              "<style scoped>\n",
              "    .dataframe tbody tr th:only-of-type {\n",
              "        vertical-align: middle;\n",
              "    }\n",
              "\n",
              "    .dataframe tbody tr th {\n",
              "        vertical-align: top;\n",
              "    }\n",
              "\n",
              "    .dataframe thead th {\n",
              "        text-align: right;\n",
              "    }\n",
              "</style>\n",
              "<table border=\"1\" class=\"dataframe\">\n",
              "  <thead>\n",
              "    <tr style=\"text-align: right;\">\n",
              "      <th></th>\n",
              "      <th>Label</th>\n",
              "      <th>Review</th>\n",
              "    </tr>\n",
              "  </thead>\n",
              "  <tbody>\n",
              "    <tr>\n",
              "      <th>0</th>\n",
              "      <td>-1</td>\n",
              "      <td>The food at snack is a selection of popular Gr...</td>\n",
              "    </tr>\n",
              "    <tr>\n",
              "      <th>1</th>\n",
              "      <td>-1</td>\n",
              "      <td>This little place in Soho is wonderful. I had ...</td>\n",
              "    </tr>\n",
              "    <tr>\n",
              "      <th>2</th>\n",
              "      <td>-1</td>\n",
              "      <td>ordered lunch for 15 from Snack last Friday. O...</td>\n",
              "    </tr>\n",
              "    <tr>\n",
              "      <th>3</th>\n",
              "      <td>-1</td>\n",
              "      <td>This is a beautiful quaint little restaurant o...</td>\n",
              "    </tr>\n",
              "    <tr>\n",
              "      <th>4</th>\n",
              "      <td>-1</td>\n",
              "      <td>Snack is great place for a casual sit down lun...</td>\n",
              "    </tr>\n",
              "  </tbody>\n",
              "</table>\n",
              "</div>\n",
              "    <div class=\"colab-df-buttons\">\n",
              "\n",
              "  <div class=\"colab-df-container\">\n",
              "    <button class=\"colab-df-convert\" onclick=\"convertToInteractive('df-6dbf85e7-977b-43ce-a036-4073a1855998')\"\n",
              "            title=\"Convert this dataframe to an interactive table.\"\n",
              "            style=\"display:none;\">\n",
              "\n",
              "  <svg xmlns=\"http://www.w3.org/2000/svg\" height=\"24px\" viewBox=\"0 -960 960 960\">\n",
              "    <path d=\"M120-120v-720h720v720H120Zm60-500h600v-160H180v160Zm220 220h160v-160H400v160Zm0 220h160v-160H400v160ZM180-400h160v-160H180v160Zm440 0h160v-160H620v160ZM180-180h160v-160H180v160Zm440 0h160v-160H620v160Z\"/>\n",
              "  </svg>\n",
              "    </button>\n",
              "\n",
              "  <style>\n",
              "    .colab-df-container {\n",
              "      display:flex;\n",
              "      gap: 12px;\n",
              "    }\n",
              "\n",
              "    .colab-df-convert {\n",
              "      background-color: #E8F0FE;\n",
              "      border: none;\n",
              "      border-radius: 50%;\n",
              "      cursor: pointer;\n",
              "      display: none;\n",
              "      fill: #1967D2;\n",
              "      height: 32px;\n",
              "      padding: 0 0 0 0;\n",
              "      width: 32px;\n",
              "    }\n",
              "\n",
              "    .colab-df-convert:hover {\n",
              "      background-color: #E2EBFA;\n",
              "      box-shadow: 0px 1px 2px rgba(60, 64, 67, 0.3), 0px 1px 3px 1px rgba(60, 64, 67, 0.15);\n",
              "      fill: #174EA6;\n",
              "    }\n",
              "\n",
              "    .colab-df-buttons div {\n",
              "      margin-bottom: 4px;\n",
              "    }\n",
              "\n",
              "    [theme=dark] .colab-df-convert {\n",
              "      background-color: #3B4455;\n",
              "      fill: #D2E3FC;\n",
              "    }\n",
              "\n",
              "    [theme=dark] .colab-df-convert:hover {\n",
              "      background-color: #434B5C;\n",
              "      box-shadow: 0px 1px 3px 1px rgba(0, 0, 0, 0.15);\n",
              "      filter: drop-shadow(0px 1px 2px rgba(0, 0, 0, 0.3));\n",
              "      fill: #FFFFFF;\n",
              "    }\n",
              "  </style>\n",
              "\n",
              "    <script>\n",
              "      const buttonEl =\n",
              "        document.querySelector('#df-6dbf85e7-977b-43ce-a036-4073a1855998 button.colab-df-convert');\n",
              "      buttonEl.style.display =\n",
              "        google.colab.kernel.accessAllowed ? 'block' : 'none';\n",
              "\n",
              "      async function convertToInteractive(key) {\n",
              "        const element = document.querySelector('#df-6dbf85e7-977b-43ce-a036-4073a1855998');\n",
              "        const dataTable =\n",
              "          await google.colab.kernel.invokeFunction('convertToInteractive',\n",
              "                                                    [key], {});\n",
              "        if (!dataTable) return;\n",
              "\n",
              "        const docLinkHtml = 'Like what you see? Visit the ' +\n",
              "          '<a target=\"_blank\" href=https://colab.research.google.com/notebooks/data_table.ipynb>data table notebook</a>'\n",
              "          + ' to learn more about interactive tables.';\n",
              "        element.innerHTML = '';\n",
              "        dataTable['output_type'] = 'display_data';\n",
              "        await google.colab.output.renderOutput(dataTable, element);\n",
              "        const docLink = document.createElement('div');\n",
              "        docLink.innerHTML = docLinkHtml;\n",
              "        element.appendChild(docLink);\n",
              "      }\n",
              "    </script>\n",
              "  </div>\n",
              "\n",
              "\n",
              "<div id=\"df-021bf3a3-046d-41f3-94e0-7c6e93fb8a09\">\n",
              "  <button class=\"colab-df-quickchart\" onclick=\"quickchart('df-021bf3a3-046d-41f3-94e0-7c6e93fb8a09')\"\n",
              "            title=\"Suggest charts\"\n",
              "            style=\"display:none;\">\n",
              "\n",
              "<svg xmlns=\"http://www.w3.org/2000/svg\" height=\"24px\"viewBox=\"0 0 24 24\"\n",
              "     width=\"24px\">\n",
              "    <g>\n",
              "        <path d=\"M19 3H5c-1.1 0-2 .9-2 2v14c0 1.1.9 2 2 2h14c1.1 0 2-.9 2-2V5c0-1.1-.9-2-2-2zM9 17H7v-7h2v7zm4 0h-2V7h2v10zm4 0h-2v-4h2v4z\"/>\n",
              "    </g>\n",
              "</svg>\n",
              "  </button>\n",
              "\n",
              "<style>\n",
              "  .colab-df-quickchart {\n",
              "      --bg-color: #E8F0FE;\n",
              "      --fill-color: #1967D2;\n",
              "      --hover-bg-color: #E2EBFA;\n",
              "      --hover-fill-color: #174EA6;\n",
              "      --disabled-fill-color: #AAA;\n",
              "      --disabled-bg-color: #DDD;\n",
              "  }\n",
              "\n",
              "  [theme=dark] .colab-df-quickchart {\n",
              "      --bg-color: #3B4455;\n",
              "      --fill-color: #D2E3FC;\n",
              "      --hover-bg-color: #434B5C;\n",
              "      --hover-fill-color: #FFFFFF;\n",
              "      --disabled-bg-color: #3B4455;\n",
              "      --disabled-fill-color: #666;\n",
              "  }\n",
              "\n",
              "  .colab-df-quickchart {\n",
              "    background-color: var(--bg-color);\n",
              "    border: none;\n",
              "    border-radius: 50%;\n",
              "    cursor: pointer;\n",
              "    display: none;\n",
              "    fill: var(--fill-color);\n",
              "    height: 32px;\n",
              "    padding: 0;\n",
              "    width: 32px;\n",
              "  }\n",
              "\n",
              "  .colab-df-quickchart:hover {\n",
              "    background-color: var(--hover-bg-color);\n",
              "    box-shadow: 0 1px 2px rgba(60, 64, 67, 0.3), 0 1px 3px 1px rgba(60, 64, 67, 0.15);\n",
              "    fill: var(--button-hover-fill-color);\n",
              "  }\n",
              "\n",
              "  .colab-df-quickchart-complete:disabled,\n",
              "  .colab-df-quickchart-complete:disabled:hover {\n",
              "    background-color: var(--disabled-bg-color);\n",
              "    fill: var(--disabled-fill-color);\n",
              "    box-shadow: none;\n",
              "  }\n",
              "\n",
              "  .colab-df-spinner {\n",
              "    border: 2px solid var(--fill-color);\n",
              "    border-color: transparent;\n",
              "    border-bottom-color: var(--fill-color);\n",
              "    animation:\n",
              "      spin 1s steps(1) infinite;\n",
              "  }\n",
              "\n",
              "  @keyframes spin {\n",
              "    0% {\n",
              "      border-color: transparent;\n",
              "      border-bottom-color: var(--fill-color);\n",
              "      border-left-color: var(--fill-color);\n",
              "    }\n",
              "    20% {\n",
              "      border-color: transparent;\n",
              "      border-left-color: var(--fill-color);\n",
              "      border-top-color: var(--fill-color);\n",
              "    }\n",
              "    30% {\n",
              "      border-color: transparent;\n",
              "      border-left-color: var(--fill-color);\n",
              "      border-top-color: var(--fill-color);\n",
              "      border-right-color: var(--fill-color);\n",
              "    }\n",
              "    40% {\n",
              "      border-color: transparent;\n",
              "      border-right-color: var(--fill-color);\n",
              "      border-top-color: var(--fill-color);\n",
              "    }\n",
              "    60% {\n",
              "      border-color: transparent;\n",
              "      border-right-color: var(--fill-color);\n",
              "    }\n",
              "    80% {\n",
              "      border-color: transparent;\n",
              "      border-right-color: var(--fill-color);\n",
              "      border-bottom-color: var(--fill-color);\n",
              "    }\n",
              "    90% {\n",
              "      border-color: transparent;\n",
              "      border-bottom-color: var(--fill-color);\n",
              "    }\n",
              "  }\n",
              "</style>\n",
              "\n",
              "  <script>\n",
              "    async function quickchart(key) {\n",
              "      const quickchartButtonEl =\n",
              "        document.querySelector('#' + key + ' button');\n",
              "      quickchartButtonEl.disabled = true;  // To prevent multiple clicks.\n",
              "      quickchartButtonEl.classList.add('colab-df-spinner');\n",
              "      try {\n",
              "        const charts = await google.colab.kernel.invokeFunction(\n",
              "            'suggestCharts', [key], {});\n",
              "      } catch (error) {\n",
              "        console.error('Error during call to suggestCharts:', error);\n",
              "      }\n",
              "      quickchartButtonEl.classList.remove('colab-df-spinner');\n",
              "      quickchartButtonEl.classList.add('colab-df-quickchart-complete');\n",
              "    }\n",
              "    (() => {\n",
              "      let quickchartButtonEl =\n",
              "        document.querySelector('#df-021bf3a3-046d-41f3-94e0-7c6e93fb8a09 button');\n",
              "      quickchartButtonEl.style.display =\n",
              "        google.colab.kernel.accessAllowed ? 'block' : 'none';\n",
              "    })();\n",
              "  </script>\n",
              "</div>\n",
              "    </div>\n",
              "  </div>\n"
            ],
            "application/vnd.google.colaboratory.intrinsic+json": {
              "type": "dataframe",
              "variable_name": "df_source",
              "summary": "{\n  \"name\": \"df_source\",\n  \"rows\": 410,\n  \"fields\": [\n    {\n      \"column\": \"Label\",\n      \"properties\": {\n        \"dtype\": \"number\",\n        \"std\": 1,\n        \"min\": -1,\n        \"max\": 1,\n        \"num_unique_values\": 2,\n        \"samples\": [\n          1,\n          -1\n        ],\n        \"semantic_type\": \"\",\n        \"description\": \"\"\n      }\n    },\n    {\n      \"column\": \"Review\",\n      \"properties\": {\n        \"dtype\": \"string\",\n        \"num_unique_values\": 410,\n        \"samples\": [\n          \"This place is fantastic. I came here the other night with a friend, we both had the tuscan chicken, it was delightful! We also shared the mushroom cigars and the tuna tartar to start. They were both outstanding. Cant wait to come back! Its BYOB!\",\n          \"Simply the best in NYC!!! Go, eat, drink, enjoy.\"\n        ],\n        \"semantic_type\": \"\",\n        \"description\": \"\"\n      }\n    }\n  ]\n}"
            }
          },
          "metadata": {},
          "execution_count": 36
        }
      ]
    },
    {
      "cell_type": "code",
      "source": [
        "x = df_source['Review']"
      ],
      "metadata": {
        "id": "xzjCX9pSgcqW"
      },
      "execution_count": null,
      "outputs": []
    },
    {
      "cell_type": "code",
      "source": [
        "keywords_restaurant = kw_model.extract_keywords(x, top_n=10)"
      ],
      "metadata": {
        "id": "rezFdxEpg7vC"
      },
      "execution_count": null,
      "outputs": []
    },
    {
      "cell_type": "code",
      "source": [
        "import json\n",
        "\n",
        "# Save to a file\n",
        "with open('keywords_restaurant.json', 'w') as file:\n",
        "    json.dump(keywords_restaurant, file)\n"
      ],
      "metadata": {
        "id": "cxe8235IFDTr"
      },
      "execution_count": null,
      "outputs": []
    },
    {
      "cell_type": "code",
      "source": [
        "# Load the keywords from the file\n",
        "with open('keywords_restaurant.json', 'r') as file:\n",
        "    loaded_keywords_restaurant = json.load(file)\n",
        "\n",
        "# Now, loaded_keywords_target contains the original keyword data\n",
        "print(loaded_keywords_restaurant)\n"
      ],
      "metadata": {
        "id": "0E--voIxFGK1",
        "outputId": "f318a6c0-b4b5-416d-d063-5a709e8d13c5",
        "colab": {
          "base_uri": "https://localhost:8080/"
        }
      },
      "execution_count": null,
      "outputs": [
        {
          "output_type": "stream",
          "name": "stdout",
          "text": [
            "[[['snack', 0.5028], ['appetizer', 0.4803], ['dishes', 0.4538], ['tray', 0.4321], ['greek', 0.4058], ['food', 0.3831], ['salad', 0.3499], ['tables', 0.2121], ['seated', 0.2026], ['popular', 0.1602]], [['soho', 0.6332], ['serving', 0.3877], ['sandwich', 0.3347], ['staff', 0.3226], ['service', 0.3025], ['lamb', 0.2664], ['place', 0.2623], ['food', 0.2553], ['wine', 0.2407], ['small', 0.1734]], [['lunch', 0.5643], ['meal', 0.4098], ['snack', 0.3691], ['ordered', 0.3254], ['food', 0.3037], ['15', 0.2708], ['friday', 0.2623], ['missing', 0.2575], ['great', 0.1253], ['list', 0.1188]], [['restaurant', 0.5093], ['sandwich', 0.457], ['lamb', 0.4329], ['soho', 0.4128], ['bread', 0.3192], ['delicious', 0.2988], ['tasty', 0.2928], ['lunchtime', 0.2907], ['onions', 0.262], ['reviews', 0.2504]], [['lunch', 0.5257], ['restaurant', 0.4847], ['snack', 0.4703], ['dinner', 0.4336], ['food', 0.3466], ['avgolemono', 0.3295], ['taverna', 0.3081], ['waiters', 0.3049], ['salad', 0.2968], ['soup', 0.2748]], [['lamb', 0.4894], ['greek', 0.4512], ['sandwich', 0.3569], ['salad', 0.3292], ['tender', 0.2916], ['food', 0.2776], ['onions', 0.2731], ['stars', 0.2471], ['juicy', 0.2256], ['amazingly', 0.2245]], [['greek', 0.4025], ['lunch', 0.3931], ['meals', 0.387], ['sandwiches', 0.3754], ['lemonade', 0.3374], ['olives', 0.3334], ['food', 0.3223], ['sandwich', 0.318], ['olive', 0.3123], ['meats', 0.2654]], [['chicken', 0.4551], ['sandwich', 0.4211], ['delicious', 0.3279], ['place', 0.2426], ['roasted', 0.2163], ['winners', 0.1631], ['try', 0.1246], ['love', 0.0807], ['time', 0.0631], ['wait', 0.0578]], [['entree', 0.5005], ['eggplant', 0.4815], ['cinnamon', 0.4629], ['flavors', 0.4605], ['snack', 0.4109], ['pepper', 0.337], ['stuffed', 0.299], ['tomato', 0.2862], ['wine', 0.2777], ['eat', 0.2211]], [['lunch', 0.5296], ['soup', 0.3704], ['sandwich', 0.3696], ['avgolemono', 0.3486], ['delicious', 0.2933], ['lamb', 0.2557], ['baklava', 0.2336], ['service', 0.2252], ['wonderful', 0.218], ['shared', 0.2154]], [['place', 0.4952], ['food', 0.3698], ['people', 0.2486], ['pretty', 0.2304], ['good', 0.2298], ['cool', 0.213]], [['appetizers', 0.4776], ['place', 0.4344], ['cozy', 0.4288], ['platter', 0.3599], ['appetite', 0.3544], ['good', 0.1636], ['combo', 0.1386], ['friend', 0.1258], ['stuck', 0.1128], ['just', 0.1048]], [['greek', 0.4972], ['foodie', 0.392], ['snack', 0.3758], ['food', 0.3738], ['flavors', 0.3732], ['kitchen', 0.3573], ['knowledgable', 0.3247], ['host', 0.303], ['fabulous', 0.2697], ['authentic', 0.2457]], [['snack', 0.5929], ['lunch', 0.4444], ['butter', 0.3319], ['dinner', 0.3316], ['beans', 0.2866], ['perfection', 0.2682], ['favorite', 0.2], ['spot', 0.137], ['make', 0.1148], ['early', 0.1051]], [['lunch', 0.4158], ['diner', 0.4077], ['pizza', 0.3646], ['greeted', 0.3637], ['greeting', 0.3455], ['pasta', 0.3392], ['waitress', 0.299], ['rude', 0.2372], ['staff', 0.2174], ['tasted', 0.213]], [['pizza', 0.4824], ['pie', 0.4333], ['margarita', 0.4079], ['toppings', 0.3541], ['bland', 0.288], ['sauce', 0.2426], ['horrible', 0.2232], ['tommys', 0.2191], ['expensive', 0.2179], ['oily', 0.1876]], [['pizzeria', 0.5823], ['meal', 0.4711], ['food', 0.3866], ['puked', 0.3279], ['cheap', 0.3234], ['bathroom', 0.3191], ['guts', 0.2227], ['average', 0.13], ['ve', 0.0544], ['fact', 0.0418]], [['pizza', 0.469], ['restaurant', 0.4221], ['reviews', 0.3604], ['yelp', 0.3446], ['tasteless', 0.334], ['flavor', 0.3234], ['tasted', 0.3148], ['peppino', 0.3003], ['quality', 0.2931], ['pasta', 0.2902]], [['slice', 0.4803], ['pizza', 0.4548], ['warm', 0.4389], ['hot', 0.3297], ['busy', 0.2869], ['regular', 0.1917], ['just', 0.1657], ['went', 0.1216], ['time', 0.0985], ['got', 0.0952]], [['waitresses', 0.455], ['pizza', 0.4537], ['lets', 0.2056], ['best', 0.1755], ['order', 0.1755], ['worth', 0.1733], ['just', 0.1681], ['lot', 0.1639], ['let', 0.1603], ['rack', 0.1598]], [['pizza', 0.4975], ['service', 0.2208], ['prices', 0.2126], ['bad', 0.2014], ['great', 0.1402], ['reasonable', 0.1314], ['think', 0.0644], ['work', 0.037]], [['peppinos', 0.4985], ['pepperoni', 0.4289], ['pizza', 0.4068], ['pies', 0.3818], ['toppings', 0.35], ['slice', 0.2761], ['sandwiches', 0.2724], ['delivery', 0.2663], ['delicious', 0.2476], ['shop', 0.2111]], [['pizza', 0.6431], ['solid', 0.4741], ['place', 0.4533], ['good', 0.2148]], [['pizza', 0.4448], ['nyc', 0.3792], ['oven', 0.3271], ['solid', 0.2211], ['place', 0.2011], ['impressed', 0.1803], ['delicious', 0.1775], ['experience', 0.1458], ['best', 0.1183], ['amazing', 0.1052]], [['pizza', 0.4825], ['pie', 0.473], ['pizzas', 0.462], ['bruschetta', 0.3908], ['dishes', 0.3739], ['oven', 0.3677], ['diavolo', 0.3259], ['delicious', 0.3018], ['brick', 0.2528], ['spot', 0.245]], [['pizza', 0.4983], ['restaurant', 0.4899], ['gourmet', 0.3779], ['party', 0.3239], ['birthday', 0.3039], ['waitstaff', 0.2406], ['place', 0.2029], ['service', 0.1965], ['delicious', 0.1941], ['planned', 0.184]], [['stagioni', 0.5419], ['quattro', 0.4856], ['pizzas', 0.397], ['delivery', 0.2239], ['place', 0.1622], ['recommend', 0.1541], ['reminds', 0.1274], ['great', 0.1224], ['childhood', 0.1123], ['highly', 0.104]], [['salad', 0.4277], ['dinner', 0.3638], ['stroller', 0.3484], ['food', 0.3002], ['yummy', 0.2744], ['frequently', 0.2644], ['garlic', 0.2601], ['order', 0.2482], ['week', 0.2358], ['crisps', 0.2122]], [['brooklyn', 0.6017], ['pizza', 0.499], ['delicious', 0.2897], ['wonderfully', 0.2576], ['favorite', 0.2215], ['places', 0.2199]], [['cheesesteak', 0.5722], ['pizza', 0.4866], ['subs', 0.3749], ['oven', 0.3705], ['brick', 0.2318], ['service', 0.2279], ['plus', 0.1799], ['good', 0.178], ['pretty', 0.1178]], [['pizza', 0.3987], ['menu', 0.3178], ['service', 0.2824], ['crispy', 0.2714], ['atmosphere', 0.2525], ['taste', 0.249], ['great', 0.2183], ['good', 0.1946], ['nice', 0.1866]], [['seafood', 0.4891], ['lunch', 0.3761], ['food', 0.3667], ['sauce', 0.2545], ['friendly', 0.2261], ['recommend', 0.2116], ['specials', 0.2056], ['friends', 0.1933], ['red', 0.1919], ['experience', 0.1899]], [['peppinos', 0.4324], ['steak', 0.3757], ['margarita', 0.3623], ['cheese', 0.34], ['sandwiches', 0.3191], ['sauce', 0.2882], ['pie', 0.2768], ['place', 0.2322], ['warm', 0.2124], ['hot', 0.2]], [['manager', 0.4673], ['friendly', 0.3737], ['food', 0.3543], ['place', 0.2834], ['delicious', 0.2587], ['clean', 0.2104], ['helpful', 0.2014], ['nice', 0.0951], ['extra', 0.0595]], [['pizza', 0.5123], ['topping', 0.3636], ['fresh', 0.2601], ['ingredients', 0.2326], ['great', 0.1945], ['hits', 0.1662], ['spot', 0.1619], ['place', 0.1256], ['generous', 0.1085], ['check', 0.1007]], [['pricey', 0.4513], ['italian', 0.4118], ['food', 0.2812], ['great', 0.1739], ['best', 0.1564]], [['ravioli', 0.5], ['restaurants', 0.4678], ['york', 0.3372], ['marina', 0.2736], ['sauce', 0.2547], ['visiting', 0.2298], ['delicious', 0.2177], ['italy', 0.209], ['recommend', 0.1877], ['order', 0.1808]], [['brooklyn', 0.5801], ['place', 0.353], ['locations', 0.3503], ['meal', 0.3448], ['food', 0.3081], ['great', 0.2033], ['enjoy', 0.1779], ['good', 0.134]], [['restaurant', 0.5202], ['restaurants', 0.4857], ['dinner', 0.3692], ['meal', 0.3682], ['steak', 0.3574], ['peppinos', 0.2838], ['patrons', 0.2826], ['food', 0.2682], ['cheese', 0.2474], ['served', 0.2411]], [['pizza', 0.4141], ['places', 0.3299], ['area', 0.3208], ['bay', 0.3073], ['spots', 0.3017], ['ridge', 0.2847], ['margherita', 0.2579], ['park', 0.2324], ['oven', 0.2098], ['peppinos', 0.1949]], [['pizza', 0.4711], ['enjoyed', 0.3521], ['flavorful', 0.3298], ['fresh', 0.2914], ['worth', 0.1849], ['wait', 0.1769]], [['peppinos', 0.5732], ['family', 0.3905], ['people', 0.3368], ['neighborhood', 0.3052], ['dinner', 0.299], ['owners', 0.2971], ['food', 0.2892], ['children', 0.2624], ['hurricane', 0.2536], ['visit', 0.1742]], [['pizza', 0.466], ['business', 0.4314], ['family', 0.3304], ['service', 0.3136], ['garlic', 0.2975], ['vodka', 0.2207], ['sauce', 0.2152], ['makes', 0.1944], ['fantastic', 0.1524], ['book', 0.149]], [['pie', 0.5294], ['slice', 0.3441], ['large', 0.3093], ['delivery', 0.2952], ['delicious', 0.2823], ['vodka', 0.2671], ['huge', 0.2359], ['fast', 0.1935], ['definitely', 0.1501], ['recommend', 0.1427]], [['restaurants', 0.4433], ['pizza', 0.4104], ['appetizer', 0.385], ['mozzarella', 0.3578], ['oven', 0.321], ['dough', 0.2953], ['calamari', 0.2848], ['make', 0.2544], ['place', 0.2509], ['homemade', 0.2459]], [['peppino', 0.4538], ['pizzas', 0.3381], ['appetizer', 0.329], ['pasta', 0.3187], ['reviews', 0.2936], ['mozzarella', 0.2919], ['pastas', 0.291], ['orecciette', 0.2894], ['grimaldi', 0.2815], ['park', 0.2739]], [['pizza', 0.4665], ['pizzas', 0.4072], ['restaurant', 0.3963], ['deliver', 0.3044], ['park', 0.2529], ['definitely', 0.2103], ['delivered', 0.2099], ['order', 0.1868], ['ordered', 0.1838], ['party', 0.1645]], [['pizza', 0.5035], ['crust', 0.4712], ['margherita', 0.4562], ['pizzerias', 0.3765], ['mozzarella', 0.3454], ['pie', 0.3244], ['slope', 0.2768], ['crunchy', 0.2292], ['delicious', 0.221], ['quality', 0.188]], [['pizza', 0.5172], ['pie', 0.4115], ['peppino', 0.3666], ['crust', 0.3663], ['oven', 0.3574], ['mozzarella', 0.3567], ['lunch', 0.342], ['margherita', 0.3414], ['delicious', 0.2929], ['flavorful', 0.2856]], [['pizza', 0.5517], ['pie', 0.4768], ['sausage', 0.4048], ['sew', 0.3357], ['peperoni', 0.3073], ['ham', 0.2916], ['mmmm', 0.2816], ['mushroom', 0.2477], ['shut', 0.2358], ['delivery', 0.1963]], [['brooklyn', 0.5583], ['pizza', 0.4805], ['cheesesteaks', 0.4394], ['dishes', 0.2898], ['pasta', 0.2678], ['place', 0.2091], ['best', 0.1674], ['close', 0.1655], ['come', 0.099], ['great', 0.094]], [['pizza', 0.5286], ['pie', 0.4871], ['slope', 0.4169], ['slice', 0.3571], ['taste', 0.3027], ['rock', 0.2925], ['delicious', 0.2585], ['sensation', 0.2349], ['simply', 0.1444], ['world', 0.1067]], [['margherita', 0.471], ['pizza', 0.4523], ['salad', 0.3888], ['bruschetta', 0.3103], ['peppino', 0.2778], ['bowls', 0.2691], ['bread', 0.2554], ['joint', 0.223], ['cook', 0.2156], ['tasty', 0.2104]], [['pizzeria', 0.5427], ['pizza', 0.4747], ['mozzarella', 0.4102], ['pasta', 0.3688], ['restaurant', 0.3318], ['dishes', 0.321], ['crust', 0.3196], ['sandwiches', 0.3131], ['appetizers', 0.2917], ['italian', 0.2832]], [['margherita', 0.6313], ['pizza', 0.4738], ['mozzarella', 0.466], ['crust', 0.349], ['basil', 0.3315], ['crisp', 0.2577], ['delicious', 0.2298], ['oven', 0.2162], ['baked', 0.1921], ['tasted', 0.177]], [['bay', 0.4949], ['restaurant', 0.4852], ['vodka', 0.3613], ['penne', 0.3069], ['la', 0.3041], ['ridge', 0.2706], ['corner', 0.1992], ['wow', 0.1254], ['surprised', 0.1126], ['wish', 0.0847]], [['appetizers', 0.5814], ['entrees', 0.5597], ['food', 0.4258], ['boring', 0.3367], ['service', 0.2927], ['bad', 0.2185], ['time', 0.1802], ['recommend', 0.1506], ['pretty', 0.1247], ['came', 0.0411]], [['stew', 0.4779], ['dinner', 0.4413], ['food', 0.4362], ['hungry', 0.4132], ['bowl', 0.3939], ['restaurant', 0.3898], ['eat', 0.3868], ['portions', 0.3843], ['potato', 0.3516], ['squash', 0.3421]], [['artichoke', 0.4779], ['brussel', 0.4242], ['restaurant', 0.4197], ['delicious', 0.3669], ['broth', 0.3586], ['sprouts', 0.3282], ['unique', 0.3127], ['food', 0.305], ['eclectic', 0.2989], ['fried', 0.2927]], [['restaurant', 0.5832], ['dishes', 0.4432], ['brooklyn', 0.4361], ['dinner', 0.4351], ['dish', 0.3962], ['york', 0.3557], ['waitress', 0.3338], ['dekalb', 0.3282], ['brunch', 0.298], ['music', 0.258]], [['bartender', 0.4294], ['cocktails', 0.4261], ['cocktail', 0.4087], ['decor', 0.4062], ['bar', 0.4034], ['menu', 0.3012], ['lovely', 0.2658], ['liquors', 0.2521], ['fantastic', 0.2485], ['friendly', 0.2356]], [['restaurant', 0.5266], ['winelist', 0.4519], ['flavor', 0.3247], ['boutique', 0.3242], ['menu', 0.32], ['delicious', 0.3184], ['ras', 0.3137], ['food', 0.3015], ['service', 0.2723], ['neighborhood', 0.2549]], [['burger', 0.5413], ['burgers', 0.5195], ['veggie', 0.438], ['restaurant', 0.4278], ['vegetarian', 0.3525], ['delicious', 0.2843], ['seats', 0.2649], ['menu', 0.2484], ['tasted', 0.2239], ['friendly', 0.1928]], [['brunch', 0.4083], ['lamb', 0.4078], ['chef', 0.3919], ['dish', 0.3792], ['cooked', 0.3748], ['entree', 0.3709], ['restaurant', 0.3655], ['dinner', 0.3639], ['potatoes', 0.361], ['diner', 0.3389]], [['food', 0.3774], ['brewed', 0.3705], ['dekalb', 0.3688], ['dessert', 0.3642], ['coffee', 0.3555], ['savory', 0.3417], ['warm', 0.3384], ['warms', 0.3305], ['soulful', 0.3245], ['sacredness', 0.315]], [['omelette', 0.48], ['meal', 0.3652], ['coffee', 0.3453], ['dining', 0.3386], ['cooked', 0.3327], ['hungry', 0.3286], ['egg', 0.3228], ['mushrooms', 0.3086], ['food', 0.3051], ['mimosa', 0.2988]], [['brunch', 0.4087], ['fries', 0.3374], ['saturday', 0.3125], ['omelettes', 0.2924], ['food', 0.2846], ['omelette', 0.284], ['salad', 0.2818], ['mushroom', 0.2251], ['group', 0.2094], ['nearby', 0.2041]], [['ventilation', 0.3998], ['inspection', 0.3207], ['nyc', 0.2895], ['smoked', 0.271], ['odors', 0.2544], ['food', 0.2516], ['fumes', 0.248], ['foods', 0.2448], ['smoke', 0.2402], ['facility', 0.239]], [['reservation', 0.4892], ['delayed', 0.3677], ['quiet', 0.3572], ['lively', 0.3477], ['mussels', 0.3334], ['chat', 0.3328], ['30minutes', 0.3289], ['decent', 0.3091], ['table', 0.2702], ['crowd', 0.2578]], [['creamy', 0.4849], ['taste', 0.3559], ['food', 0.2852], ['good', 0.2211], ['bit', 0.1958]], [['lunch', 0.5986], ['restaurant', 0.4731], ['waitress', 0.429], ['afternoon', 0.3847], ['food', 0.3547], ['light', 0.2635], ['lovely', 0.2362], ['choices', 0.2312], ['time', 0.1998], ['quiet', 0.1873]], [['restaurant', 0.5486], ['dinner', 0.4325], ['yelp', 0.3811], ['table', 0.3359], ['food', 0.3192], ['wonderful', 0.2352], ['booked', 0.2019], ['party', 0.1741], ['good', 0.1697], ['date', 0.1558]], [['mussels', 0.4931], ['carpaccio', 0.4651], ['creme', 0.3068], ['delicious', 0.2942], ['food', 0.2387], ['enjoyed', 0.2152], ['ªl', 0.1894], ['fantastic', 0.1758], ['br', 0.163], ['went', 0.1343]], [['dinner', 0.5016], ['appetizer', 0.4218], ['portions', 0.4148], ['steak', 0.353], ['wine', 0.3452], ['cornichons', 0.3203], ['tables', 0.2855], ['liquor', 0.2702], ['stuffed', 0.2666], ['table', 0.2609]], [['restaurant', 0.4622], ['lunch', 0.3132], ['parisien', 0.3121], ['steak', 0.3031], ['kitchen', 0.2995], ['food', 0.2619], ['french', 0.2543], ['place', 0.2527], ['mignon', 0.2356], ['local', 0.2314]], [['bistro', 0.5058], ['escargot', 0.4413], ['cooked', 0.3507], ['food', 0.3469], ['french', 0.3238], ['delicious', 0.3124], ['duck', 0.3041], ['portion', 0.2139], ['little', 0.2029], ['great', 0.1805]], [['bistrot', 0.4857], ['paris', 0.414], ['food', 0.3212], ['french', 0.3188], ['small', 0.247], ['york', 0.2158], ['little', 0.212], ['service', 0.1826], ['atmosphere', 0.1733], ['great', 0.1641]], [['fan', 0.6326]], [['staff', 0.362], ['french', 0.2924], ['food', 0.2849], ['cramped', 0.2737], ['credibility', 0.2575], ['solid', 0.2473], ['atmosphere', 0.2004], ['worth', 0.1485], ['pricy', 0.1466], ['bit', 0.0773]], [['dinner', 0.4447], ['date', 0.3577], ['intimate', 0.295], ['evening', 0.2488], ['food', 0.2472], ['conversation', 0.2342], ['steak', 0.2202], ['ate', 0.2064], ['liked', 0.202], ['trout', 0.1603]], [['paris', 0.5045], ['dover', 0.4779], ['france', 0.4473], ['restaurant', 0.4007], ['french', 0.3729], ['cozy', 0.3247], ['wine', 0.3236], ['bistro', 0.3046], ['hills', 0.2239], ['lovely', 0.2044]], [['romantic', 0.3248], ['paris', 0.3196], ['meal', 0.3099], ['dionner', 0.3089], ['lunch', 0.302], ['french', 0.2972], ['client', 0.2742], ['wine', 0.2495], ['business', 0.2489], ['trips', 0.233]], [['bistro', 0.6477], ['restaurant', 0.5281], ['neighborhood', 0.4001], ['flavorful', 0.3321], ['wines', 0.2839], ['gem', 0.2808], ['food', 0.2657], ['menu', 0.2502], ['little', 0.188], ['selection', 0.18]], [['fassen', 0.273], ['familie', 0.2696], ['nderfamilie', 0.2526], ['gericht', 0.2478], ['gerichtssitzung', 0.2396], ['gedacht', 0.237], ['einfach', 0.234], ['gewesen', 0.2244], ['gefordert', 0.2221], ['gestellt', 0.2212]], [['midtown', 0.5749], ['steak', 0.3961], ['paris', 0.3803], ['place', 0.3434], ['wine', 0.3121], ['frites', 0.2331], ['gem', 0.2184], ['escargot', 0.2099], ['food', 0.2098], ['tasted', 0.2033]], [['kitchen', 0.3359], ['french', 0.3273], ['mariniere', 0.3269], ['mussels', 0.3107], ['meal', 0.2921], ['place', 0.2525], ['soup', 0.2469], ['dessert', 0.2309], ['creme', 0.2189], ['brul', 0.2036]], [['dining', 0.5353], ['lunches', 0.4462], ['lunch', 0.4324], ['artisanal', 0.3772], ['parisien', 0.37], ['french', 0.3438], ['bistro', 0.3254], ['madison', 0.3155], ['food', 0.2803], ['salad', 0.2625]], [['restaurant', 0.5191], ['meal', 0.3543], ['parisien', 0.3419], ['visitors', 0.2973], ['ny', 0.2963], ['friendly', 0.2563], ['vin', 0.2436], ['le', 0.2364], ['coq', 0.2356], ['pleasures', 0.2344]], [['york', 0.422], ['salmon', 0.3764], ['food', 0.3445], ['mussels', 0.3105], ['flavours', 0.2952], ['wine', 0.2935], ['walnut', 0.2921], ['portions', 0.2691], ['salad', 0.2404], ['delicious', 0.2348]], [['french', 0.3696], ['parisein', 0.333], ['france', 0.3222], ['potatoes', 0.3169], ['tasty', 0.3053], ['dishes', 0.2997], ['soup', 0.2821], ['marseilles', 0.2792], ['food', 0.2723], ['onion', 0.271]], [['bistro', 0.3681], ['monsieur', 0.3445], ['croque', 0.3063], ['tasty', 0.2731], ['salad', 0.2699], ['place', 0.2612], ['french', 0.2565], ['friendly', 0.2441], ['food', 0.2283], ['enjoyed', 0.2272]], [['restaurant', 0.5943], ['yelp', 0.4031], ['food', 0.2659], ['service', 0.2598], ['quality', 0.2388], ['superb', 0.2244], ['price', 0.2185], ['staff', 0.1607], ['return', 0.1586], ['excellent', 0.1292]], [['restaurant', 0.4521], ['dish', 0.3956], ['reviews', 0.3685], ['soup', 0.3543], ['lunching', 0.3528], ['yelp', 0.3447], ['cauliflower', 0.3207], ['lunchtime', 0.3133], ['sandwich', 0.2716], ['papardelle', 0.2605]], [['restaurant', 0.5502], ['meal', 0.4649], ['dinner', 0.4589], ['foodie', 0.4065], ['food', 0.3702], ['cheese', 0.3473], ['steak', 0.3388], ['bistro', 0.3347], ['york', 0.3165], ['salad', 0.3074]], [['bistrot', 0.4117], ['dishes', 0.4049], ['paris', 0.3901], ['brunch', 0.3863], ['soup', 0.313], ['french', 0.3042], ['chicken', 0.2764], ['roast', 0.2572], ['serving', 0.2371], ['prix', 0.233]], [['located', 0.3676], ['place', 0.3614], ['french', 0.3504], ['dinner', 0.3258], ['food', 0.3229], ['location', 0.3149], ['delicious', 0.2485], ['reviews', 0.2386], ['service', 0.2174], ['noticed', 0.1804]], [['manhattan', 0.4531], ['dining', 0.4266], ['martini', 0.368], ['dinner', 0.3632], ['steak', 0.3222], ['food', 0.3122], ['cozy', 0.284], ['soup', 0.231], ['beer', 0.2301], ['wine', 0.2285]], [['brunch', 0.4122], ['paris', 0.412], ['dinner', 0.3657], ['deceived', 0.3208], ['food', 0.2313], ['night', 0.1676], ['wonderful', 0.1397], ['impeccable', 0.1327], ['service', 0.1221], ['excellent', 0.1031]], [['cozy', 0.4785], ['food', 0.3627], ['pricing', 0.332], ['service', 0.3069], ['great', 0.2477], ['reasonable', 0.184]], [['bistro', 0.3906], ['reviews', 0.3554], ['date', 0.3261], ['wine', 0.3196], ['food', 0.2788], ['yelp', 0.2395], ['french', 0.2149], ['place', 0.1914], ['great', 0.1768], ['ambience', 0.1578]], [['restaurants', 0.4348], ['midtown', 0.414], ['paris', 0.4092], ['restaurant', 0.3995], ['nyc', 0.3716], ['wines', 0.3678], ['parisien', 0.3438], ['ny', 0.3125], ['dishes', 0.3019], ['french', 0.291]], [['burgers', 0.452], ['sandwiches', 0.4149], ['steak', 0.3902], ['brunch', 0.3711], ['shrimp', 0.3401], ['place', 0.2816], ['blt', 0.2426], ['great', 0.2039], ['love', 0.1476]], [['nose', 0.5071], ['lady', 0.4049], ['picks', 0.2514], ['yuck', 0.2411], ['works', 0.1624]], [['coffee', 0.4469], ['downtown', 0.3846], ['brew', 0.3157], ['spoon', 0.2159], ['cash', 0.2125], ['financial', 0.1999], ['district', 0.1742], ['place', 0.1668], ['credit', 0.1656], ['weekdays', 0.1607]], [['coffee', 0.463], ['nyc', 0.444], ['beans', 0.395], ['faves', 0.2688], ['favorite', 0.2666], ['carry', 0.1889], ['probably', 0.0361]], [['patronize', 0.315], ['nai', 0.3131], ['tapas', 0.305], ['bar', 0.3044], ['restaurant', 0.2967], ['welcoming', 0.2914], ['dining', 0.2692], ['leave', 0.2547], ['reservations', 0.2251], ['rude', 0.2004]], [['dishes', 0.5412], ['socks', 0.4412], ['boqueria', 0.4263], ['yelp', 0.2958], ['rating', 0.2823], ['unremarkable', 0.2745], ['reviews', 0.2376], ['candle', 0.225], ['given', 0.2171], ['blow', 0.2141]], [['pros', 0.4946], ['service', 0.4155], ['cons', 0.3409], ['groups', 0.3297], ['intimate', 0.2951], ['friendly', 0.2822], ['loud', 0.2473], ['accommodates', 0.2351], ['decent', 0.221], ['value', 0.187]], [['special', 0.6665]], [['restaurant', 0.4614], ['dinner', 0.3999], ['meals', 0.3467], ['reservation', 0.3126], ['eating', 0.29], ['room', 0.2792], ['chair', 0.2679], ['food', 0.2676], ['crowded', 0.2673], ['accommodate', 0.2438]], [['tapas', 0.4524], ['flamenco', 0.4365], ['sangria', 0.4045], ['place', 0.2731], ['friendly', 0.2424], ['night', 0.2259], ['vibe', 0.2082], ['nice', 0.159], ['friend', 0.1586], ['delicious', 0.1576]], [['asparagus', 0.5278], ['overcooked', 0.4055], ['salad', 0.3872], ['tortilla', 0.3677], ['food', 0.3546], ['flavorful', 0.3415], ['onions', 0.3259], ['chorizo', 0.3156], ['eat', 0.3083], ['mango', 0.3069]], [['wine', 0.4779], ['place', 0.3062], ['delight', 0.2888], ['delicious', 0.2708], ['recommend', 0.225], ['food', 0.2098], ['wonderful', 0.1974], ['definitely', 0.1816], ['great', 0.1664], ['service', 0.1567]], [['staff', 0.4735], ['food', 0.3686], ['eat', 0.3045], ['serviceminded', 0.2758], ['charming', 0.2674], ['terrific', 0.2444], ['attention', 0.2015], ['place', 0.1719], ['peope', 0.169], ['tast', 0.1527]], [['reservation', 0.4473], ['dinner', 0.4438], ['party', 0.3748], ['birthday', 0.352], ['sangria', 0.334], ['table', 0.2941], ['11', 0.285], ['accommodated', 0.2717], ['friday', 0.2613], ['food', 0.2451]], [['flamenco', 0.5209], ['dancers', 0.3501], ['party', 0.3377], ['manager', 0.3141], ['10', 0.2101], ['nice', 0.2045], ['incredible', 0.1976], ['night', 0.17], ['thursday', 0.1539], ['turned', 0.1343]], [['spot', 0.5654], ['reviews', 0.5283], ['excellent', 0.2929], ['add', 0.102]], [['happy', 0.3943], ['food', 0.3326], ['cute', 0.3323], ['fantastic', 0.2609], ['little', 0.2353], ['look', 0.0763], ['really', 0.0084]], [['food', 0.3164], ['service', 0.2437], ['price', 0.2081], ['reasonable', 0.1394], ['good', 0.12], ['point', 0.0797], ['quiet', 0.0673], ['early', 0.0602], ['really', 0.0578], ['bit', 0.0254]], [['flamenco', 0.3812], ['sangria', 0.2927], ['stayed', 0.2789], ['night', 0.2469], ['food', 0.2363], ['dancing', 0.2345], ['evening', 0.2329], ['dance', 0.231], ['hours', 0.23], ['waiter', 0.2121]], [['flamenco', 0.5588], ['place', 0.3031], ['sangrias', 0.2856], ['music', 0.2539], ['solo', 0.2335], ['date', 0.1899], ['loud', 0.1888], ['food', 0.1789], ['good', 0.1636], ['delicious', 0.1565]], [['sangria', 0.4927], ['place', 0.2671], ['cozy', 0.2653], ['experience', 0.2128], ['food', 0.1916], ['bad', 0.1833], ['service', 0.1739], ['delicious', 0.1735], ['great', 0.1286], ['love', 0.1196]], [['staff', 0.4727], ['service', 0.4557], ['napkin', 0.452], ['decor', 0.3712], ['phenomenal', 0.3384], ['food', 0.3384], ['attentive', 0.3238], ['bread', 0.3133], ['addictive', 0.3079], ['items', 0.3049]], [['shrimp', 0.5047], ['restaurant', 0.4617], ['garlic', 0.4033], ['service', 0.3529], ['staff', 0.2807], ['sauce', 0.259], ['friendly', 0.2453], ['amazing', 0.1938], ['priced', 0.1651], ['rare', 0.1567]], [['tapas', 0.4739], ['sangria', 0.3672], ['tropical', 0.317], ['rias', 0.3132], ['flamenco', 0.2852], ['mango', 0.2819], ['nai', 0.2745], ['flavors', 0.2694], ['baixas', 0.2674], ['pollo', 0.2578]], [['menu', 0.3977], ['chipirones', 0.3638], ['food', 0.308], ['olives', 0.2818], ['bacalaos', 0.2713], ['staff', 0.263], ['salteado', 0.251], ['gambas', 0.2468], ['favorite', 0.2328], ['eat', 0.2242]], [['tapas', 0.4432], ['tapa', 0.4415], ['wines', 0.4037], ['wine', 0.3653], ['pimientos', 0.3629], ['galician', 0.357], ['meal', 0.3351], ['nai', 0.3232], ['serrano', 0.3161], ['galicia', 0.3118]], [['nai', 0.4278], ['tapas', 0.382], ['sangria', 0.3006], ['night', 0.2425], ['champagne', 0.2335], ['greeted', 0.2166], ['food', 0.1955], ['service', 0.1789], ['mango', 0.1569], ['definitely', 0.1507]], [['birthday', 0.3965], ['dancers', 0.3438], ['coming', 0.2547], ['friends', 0.2468], ['food', 0.2417], ['great', 0.2387], ['tapas', 0.2237], ['thanks', 0.216], ['nai', 0.2059], ['service', 0.1995]], [['flamengo', 0.4973], ['menu', 0.495], ['dancing', 0.3753], ['service', 0.2831], ['large', 0.2473], ['extremely', 0.236], ['loud', 0.2165], ['excellent', 0.2042], ['choices', 0.1957], ['sweet', 0.1788]], [['flamenco', 0.5003], ['prices', 0.2848], ['fantastic', 0.2623], ['location', 0.2568], ['hour', 0.2527], ['shows', 0.2372], ['great', 0.2321], ['happy', 0.1964], ['food', 0.1932], ['love', 0.1865]], [['tapas', 0.5201], ['wines', 0.4311], ['wine', 0.3712], ['grapes', 0.3673], ['grape', 0.3628], ['sangria', 0.3601], ['flamenco', 0.2834], ['drank', 0.2577], ['nai', 0.2567], ['bar', 0.2528]], [['restaurant', 0.4364], ['champagne', 0.4165], ['raoul', 0.3793], ['birthday', 0.3792], ['croquettes', 0.348], ['drinks', 0.3233], ['sangria', 0.3127], ['parties', 0.3042], ['reservation', 0.2918], ['asparagus', 0.254]], [['nai', 0.4321], ['desserts', 0.3673], ['sangria', 0.3146], ['mango', 0.2476], ['croquettes', 0.2268], ['disappoint', 0.1898], ['creme', 0.1889], ['food', 0.1868], ['cream', 0.1834], ['recommend', 0.1812]], [['tapas', 0.4971], ['sangria', 0.3642], ['nai', 0.3318], ['dinner', 0.3098], ['flamenco', 0.3024], ['greeted', 0.2549], ['tropical', 0.2358], ['mother', 0.2242], ['impress', 0.2052], ['place', 0.1981]], [['tapas', 0.4543], ['sangria', 0.3555], ['bridal', 0.3471], ['dinner', 0.345], ['nai', 0.3425], ['flamenco', 0.298], ['bachelorette', 0.2582], ['party', 0.2524], ['night', 0.2303], ['fantastic', 0.2031]], [['flamenco', 0.5629], ['tapas', 0.3501], ['sangria', 0.3161], ['performances', 0.2915], ['night', 0.2883], ['shows', 0.2738], ['saturday', 0.2624], ['place', 0.2585], ['dance', 0.2575], ['enjoying', 0.2487]], [['nyc', 0.5979], ['drink', 0.2998], ['eat', 0.2841], ['best', 0.2836], ['simply', 0.141], ['enjoy', 0.1322]], [['flamenco', 0.577], ['madrid', 0.3946], ['restaurant', 0.3834], ['dinner', 0.3167], ['reservations', 0.2687], ['dancers', 0.2589], ['saturdays', 0.2553], ['sangria', 0.2538], ['celebrate', 0.253], ['place', 0.2487]], [['flamenco', 0.41], ['tapas', 0.3371], ['sangria', 0.3284], ['place', 0.2706], ['saturday', 0.266], ['awesome', 0.249], ['food', 0.2309], ['friends', 0.2284], ['great', 0.2235], ['night', 0.2233]], [['flamenco', 0.4932], ['sangria', 0.4143], ['manhattan', 0.3775], ['tapas', 0.3768], ['bartender', 0.2881], ['place', 0.2842], ['drinking', 0.2782], ['evening', 0.2749], ['boroughs', 0.2622], ['saturday', 0.262]], [['flamenco', 0.4792], ['food', 0.217], ['prices', 0.2122], ['ate', 0.2049], ['terrific', 0.2027], ['absolutely', 0.187], ['night', 0.1675], ['loved', 0.1578], ['service', 0.1562], ['friends', 0.1214]], [['reservation', 0.5179], ['eat', 0.3365], ['food', 0.3168], ['treated', 0.254], ['hung', 0.1614], ['called', 0.1472], ['good', 0.1309], ['say', 0.1038], ['better', 0.1029], ['ask', 0.0845]], [['waiter', 0.3345], ['brunch', 0.3213], ['customers', 0.2815], ['room', 0.265], ['coffee', 0.2629], ['employee', 0.2564], ['giving', 0.2543], ['staff', 0.2528], ['serve', 0.2442], ['food', 0.243]], [['restaurant', 0.5231], ['waiter', 0.4292], ['meal', 0.3881], ['food', 0.3178], ['nook', 0.2785], ['rude', 0.2607], ['mediocre', 0.2431], ['menu', 0.2402], ['drinks', 0.1955], ['attitude', 0.1776]], [['restaurant', 0.4847], ['customers', 0.4601], ['reservation', 0.4039], ['customer', 0.3803], ['reservations', 0.3303], ['service', 0.2599], ['manager', 0.2581], ['nook', 0.2273], ['awful', 0.2261], ['manhattan', 0.2222]], [['waitress', 0.4362], ['guests', 0.3409], ['dinner', 0.3299], ['polite', 0.2949], ['orders', 0.2687], ['rude', 0.2659], ['appetizers', 0.2448], ['polish', 0.2433], ['cook', 0.2327], ['party', 0.2035]], [['toast', 0.4349], ['topping', 0.3926], ['dishes', 0.3805], ['restaurant', 0.3725], ['eggs', 0.3398], ['egg', 0.3389], ['bland', 0.3233], ['tasty', 0.3141], ['potatoes', 0.3106], ['benedict', 0.3047]], [['brunch', 0.3791], ['iced', 0.3311], ['salmon', 0.3135], ['foods', 0.2899], ['food', 0.2759], ['coffee', 0.2708], ['orders', 0.2591], ['beverage', 0.2579], ['staff', 0.2578], ['tables', 0.2424]], [['dinner', 0.3904], ['food', 0.3372], ['reservation', 0.3254], ['brunch', 0.3229], ['ambience', 0.2928], ['tiny', 0.2885], ['table', 0.2744], ['large', 0.2508], ['party', 0.2463], ['friendly', 0.2365]], [['salad', 0.5133], ['egg', 0.4017], ['wall', 0.3602], ['scramble', 0.3384], ['hole', 0.3129], ['crammed', 0.2826], ['fresh', 0.225], ['tastes', 0.197], ['came', 0.1391], ['got', 0.1031]], [['average', 0.4538], ['fries', 0.4335], ['rosemary', 0.3498], ['tiny', 0.2225], ['liked', 0.2009], ['place', 0.1679]], [['beer', 0.3426], ['brunch', 0.3343], ['mushroom', 0.3274], ['drinking', 0.3003], ['food', 0.2676], ['decent', 0.2595], ['reviews', 0.2425], ['moderately', 0.2335], ['table', 0.2176], ['evening', 0.1912]], [['corkage', 0.5411], ['fries', 0.3614], ['rosemary', 0.3365], ['fee', 0.2922], ['town', 0.226], ['worth', 0.1816], ['maybe', 0.0941], ['riding', 0.0485], ['like', 0.0371]], [['restaurant', 0.6335], ['bathroom', 0.3462], ['customers', 0.3245], ['place', 0.3163], ['cozy', 0.2842], ['food', 0.2794], ['fries', 0.2704], ['rosemary', 0.2366], ['tables', 0.2187], ['cigars', 0.2103]], [['restaurant', 0.5728], ['menu', 0.3262], ['desserts', 0.3204], ['inexpensive', 0.312], ['food', 0.3046], ['service', 0.2865], ['tasty', 0.2527], ['small', 0.231], ['little', 0.2118], ['haphazard', 0.181]], [['tuna', 0.5382], ['sushi', 0.4198], ['fresh', 0.3694], ['food', 0.3538], ['fish', 0.3506], ['juice', 0.3369], ['umami', 0.3147], ['place', 0.3078], ['orange', 0.2863], ['squeezed', 0.2733]], [['neighbor', 0.3676], ['table', 0.3537], ['sit', 0.3466], ['food', 0.3345], ['nook', 0.3306], ['seated', 0.3219], ['talking', 0.2865], ['place', 0.2735], ['conversation', 0.2722], ['row', 0.2634]], [['salad', 0.4032], ['meal', 0.4024], ['theater', 0.3826], ['waiter', 0.3761], ['shrimp', 0.3635], ['dressing', 0.3586], ['place', 0.3583], ['evening', 0.306], ['town', 0.2944], ['small', 0.2825]], [['food', 0.3568], ['flair', 0.3064], ['byob', 0.2949], ['unique', 0.2745], ['cash', 0.274], ['group', 0.2535], ['cramped', 0.2394], ['love', 0.1827], ['great', 0.1786], ['space', 0.1485]], [['dinner', 0.4903], ['wine', 0.4211], ['entrees', 0.3643], ['entree', 0.3402], ['corkage', 0.2927], ['celebrating', 0.2901], ['party', 0.2852], ['waiter', 0.2785], ['mushrooms', 0.2784], ['romantic', 0.2709]], [['recipe', 0.4383], ['steak', 0.4062], ['rosemary', 0.4048], ['restaurant', 0.4008], ['appetizer', 0.3986], ['greens', 0.3715], ['potatoes', 0.3706], ['fries', 0.3479], ['cigars', 0.3453], ['mushroom', 0.332]], [['salmon', 0.4674], ['dish', 0.387], ['food', 0.3316], ['salad', 0.3311], ['pasta', 0.313], ['service', 0.3119], ['byow', 0.239], ['great', 0.2242], ['good', 0.1579], ['love', 0.1498]], [['restaurant', 0.4678], ['cappuccino', 0.3918], ['syrup', 0.3465], ['scrambled', 0.3416], ['cozy', 0.3309], ['food', 0.3297], ['spinach', 0.3275], ['salmon', 0.317], ['chilly', 0.3112], ['mashed', 0.2807]], [['reservations', 0.4676], ['dishes', 0.3986], ['waiter', 0.3848], ['food', 0.3383], ['dish', 0.3311], ['ramone', 0.3235], ['party', 0.3123], ['saturday', 0.2836], ['cozy', 0.2006], ['ordered', 0.1934]], [['nook', 0.5226], ['restaurant', 0.4358], ['kitchen', 0.3663], ['mignon', 0.353], ['hell', 0.2814], ['waitress', 0.2769], ['food', 0.2401], ['mushroom', 0.232], ['delicious', 0.2219], ['order', 0.2102]], [['pancakes', 0.4856], ['nook', 0.448], ['eggs', 0.4191], ['waiter', 0.388], ['place', 0.336], ['plate', 0.295], ['tiny', 0.2769], ['ben', 0.2761], ['apple', 0.2727], ['apt', 0.2495]], [['salad', 0.3541], ['place', 0.347], ['cozy', 0.322], ['food', 0.3138], ['byob', 0.3134], ['rack', 0.3009], ['lamb', 0.2985], ['beet', 0.2782], ['eclectic', 0.2177], ['planning', 0.2067]], [['restaurant', 0.4383], ['steak', 0.4374], ['goulash', 0.4306], ['mushroom', 0.3555], ['dessert', 0.3037], ['delicious', 0.2886], ['champagne', 0.2855], ['mousse', 0.2644], ['tuna', 0.2622], ['cigar', 0.2608]], [['nook', 0.6172], ['fries', 0.403], ['salmon', 0.3209], ['logo', 0.2968], ['chose', 0.2691], ['steak', 0.2575], ['food', 0.2468], ['eaten', 0.2387], ['french', 0.2313], ['graphics', 0.2149]], [['place', 0.4286], ['parties', 0.3932], ['private', 0.2381], ['food', 0.2273], ['best', 0.2153], ['service', 0.174], ['small', 0.1632], ['byob', 0.1593], ['overall', 0.153], ['good', 0.0899]], [['restaurant', 0.4758], ['kitchen', 0.3874], ['hell', 0.3344], ['fries', 0.3333], ['mignon', 0.3173], ['food', 0.3088], ['tasty', 0.3032], ['place', 0.2973], ['delicious', 0.2871], ['appetizers', 0.2827]], [['tuscan', 0.4661], ['chicken', 0.3694], ['tuna', 0.3394], ['place', 0.2981], ['mushroom', 0.2716], ['byob', 0.2711], ['cigars', 0.2596], ['delightful', 0.2569], ['fantastic', 0.1946], ['shared', 0.1826]], [['salmon', 0.3923], ['dinner', 0.3354], ['brunch', 0.3329], ['benedict', 0.3132], ['delicious', 0.3028], ['place', 0.2584], ['eggs', 0.2414], ['pregame', 0.2279], ['smoked', 0.1899], ['experience', 0.164]], [['kitchen', 0.4044], ['dishes', 0.3823], ['place', 0.3683], ['meal', 0.351], ['tuscany', 0.3326], ['dessert', 0.3285], ['appetizer', 0.3233], ['hell', 0.3217], ['city', 0.3049], ['fries', 0.2957]], [['nook', 0.4339], ['dinner', 0.3787], ['brunch', 0.3562], ['restaurant', 0.3426], ['potatoes', 0.3101], ['food', 0.2927], ['kitchen', 0.2532], ['salmon', 0.2508], ['eggs', 0.2494], ['waiter', 0.2302]], [['nook', 0.584], ['potatoes', 0.3541], ['food', 0.3238], ['fresh', 0.2916], ['decent', 0.2317], ['delicious', 0.2191], ['mashed', 0.2166], ['pancakes', 0.2163], ['eggs', 0.2148], ['eat', 0.1973]], [['pancakes', 0.4332], ['potatoes', 0.361], ['mashed', 0.359], ['1030am', 0.3444], ['eggs', 0.3214], ['food', 0.3129], ['wonderful', 0.2216], ['amazing', 0.1642], ['mins', 0.1442], ['15', 0.0845]], [['brunch', 0.4872], ['salmon', 0.4258], ['food', 0.3894], ['pancakes', 0.3778], ['dish', 0.3634], ['delicious', 0.3521], ['yummy', 0.3447], ['potato', 0.3413], ['edibles', 0.3363], ['menus', 0.3183]], [['mushroom', 0.4902], ['meal', 0.4251], ['burger', 0.4223], ['appetizer', 0.4154], ['food', 0.3848], ['entree', 0.3704], ['fries', 0.3477], ['cheese', 0.345], ['spinach', 0.3229], ['chicken', 0.3077]], [['place', 0.5062], ['tiny', 0.432], ['food', 0.408], ['service', 0.3658], ['excellent', 0.1652]], [['brunch', 0.6137], ['pancakes', 0.4463], ['baked', 0.3884], ['burger', 0.3716], ['bread', 0.3689], ['fries', 0.3629], ['seating', 0.2805], ['delicious', 0.245], ['savory', 0.2281], ['brim', 0.2248]], [['prima', 0.4453], ['kitchen', 0.359], ['city', 0.3414], ['place', 0.2908], ['menu', 0.2874], ['staff', 0.2348], ['lap', 0.2263], ['friendly', 0.1995], ['food', 0.1814], ['smallish', 0.1794]], [['brunch', 0.5183], ['espresso', 0.4166], ['fries', 0.3615], ['waitress', 0.3216], ['food', 0.2668], ['place', 0.2521], ['delicious', 0.2297], ['scramble', 0.2174], ['mimosas', 0.2116], ['egg', 0.2105]], [['culinary', 0.3965], ['steak', 0.357], ['tourist', 0.3371], ['theatre', 0.3332], ['seats', 0.3208], ['pie', 0.2747], ['place', 0.2674], ['ave', 0.2541], ['merrill', 0.2471], ['44th', 0.2415]], [['goulash', 0.473], ['goulsh', 0.3771], ['steaks', 0.3464], ['eaten', 0.2868], ['mushroom', 0.2837], ['food', 0.2573], ['tuna', 0.2527], ['cigars', 0.2404], ['byob', 0.234], ['wine', 0.2135]], [['mushroom', 0.3329], ['town', 0.2933], ['food', 0.2868], ['reviews', 0.2761], ['cigars', 0.2732], ['city', 0.2701], ['place', 0.2542], ['flavor', 0.2531], ['lamb', 0.2347], ['ramon', 0.214]], [['tuscan', 0.4598], ['steak', 0.432], ['dish', 0.398], ['food', 0.363], ['hostess', 0.3597], ['place', 0.3269], ['waiter', 0.3096], ['tuna', 0.2902], ['fries', 0.2844], ['chicken', 0.2695]], [['place', 0.396], ['neighborhood', 0.3875], ['byob', 0.3269], ['brunch', 0.3168], ['dinner', 0.2704], ['food', 0.269], ['enjoyed', 0.223], ['great', 0.1924], ['definitely', 0.1685], ['atmosphere', 0.124]], [['restaurant', 0.4362], ['nook', 0.4134], ['pie', 0.3895], ['appetizer', 0.358], ['peanut', 0.3348], ['tuna', 0.3329], ['table', 0.3244], ['butter', 0.273], ['yelp', 0.2493], ['sealer', 0.2474]], [['dinner', 0.4081], ['reservation', 0.3487], ['lamb', 0.3187], ['food', 0.3027], ['waiter', 0.2929], ['mashed', 0.2762], ['mushroom', 0.2685], ['brunch', 0.265], ['place', 0.2646], ['delicious', 0.2547]], [['pancakes', 0.3422], ['brunch', 0.3292], ['eggs', 0.2834], ['dishes', 0.2743], ['nyc', 0.2254], ['review', 0.2166], ['affordable', 0.214], ['great', 0.1814], ['amazing', 0.1745], ['cozy', 0.1723]], [['goulash', 0.3966], ['cigars', 0.3821], ['mushroom', 0.3732], ['kitchen', 0.335], ['wine', 0.3148], ['food', 0.3097], ['menu', 0.2899], ['fave', 0.2621], ['gentrified', 0.2551], ['place', 0.253]], [['restaurant', 0.4277], ['pio', 0.3601], ['arrive', 0.3039], ['spanish', 0.2872], ['food', 0.2718], ['delivery', 0.2696], ['order', 0.2686], ['riko', 0.2566], ['eating', 0.228], ['ordering', 0.2231]], [['pio', 0.4392], ['peruvian', 0.3679], ['cuisine', 0.2973], ['tasted', 0.2624], ['verde', 0.2554], ['order', 0.2529], ['chicken', 0.2521], ['smelled', 0.249], ['marijuana', 0.2464], ['flavorless', 0.2453]], [['pio', 0.5046], ['service', 0.4075], ['food', 0.3163], ['adequate', 0.2509], ['prefer', 0.1932], ['number', 0.1776], ['ok', 0.122], ['real', 0.122]], [['diner', 0.4025], ['chicken', 0.3273], ['advertised', 0.2825], ['great', 0.2729], ['loved', 0.2593], ['definitely', 0.2324], ['absolutely', 0.2162], ['food', 0.2087], ['door', 0.2002], ['fan', 0.1966]], [['plate', 0.5185], ['slateado', 0.4674], ['lomo', 0.3567], ['lunch', 0.3069], ['staff', 0.2651], ['service', 0.2025], ['workers', 0.1828], ['nice', 0.1567], ['work', 0.1566], ['break', 0.1533]], [['lunch', 0.4706], ['chicken', 0.434], ['meal', 0.3999], ['cook', 0.2528], ['waitresses', 0.2514], ['tender', 0.2352], ['fresh', 0.2336], ['rice', 0.2127], ['friendly', 0.2095], ['casual', 0.2051]], [['bbq', 0.5956], ['dining', 0.5923], ['chicken', 0.4732], ['food', 0.465], ['delicious', 0.2815], ['small', 0.2407], ['favorite', 0.202], ['attentive', 0.1883], ['make', 0.1854], ['service', 0.1775]], [['pastitsio', 0.5134], ['place', 0.4518], ['food', 0.3765], ['little', 0.2583], ['tiny', 0.2027], ['good', 0.147], ['especially', 0.0759]], [['sandwich', 0.4771], ['sandwiches', 0.4637], ['lamb', 0.417], ['braised', 0.3987], ['service', 0.2267], ['friendly', 0.2115], ['favour', 0.1681], ['best', 0.1551], ['place', 0.1517], ['cosy', 0.1211]], [['salad', 0.5385], ['meal', 0.4416], ['lunch', 0.425], ['restaurant', 0.3992], ['chopped', 0.3233], ['chicken', 0.3085], ['eat', 0.2849], ['vegetable', 0.2768], ['lemonade', 0.2556], ['chewing', 0.2293]], [['lunch', 0.5687], ['salad', 0.4551], ['sandwich', 0.4216], ['eating', 0.4087], ['chicken', 0.405], ['flavorful', 0.326], ['lamb', 0.2995], ['greek', 0.2856], ['greens', 0.2705], ['juicy', 0.2379]], [['lunch', 0.5463], ['sandwiches', 0.4224], ['dishes', 0.3764], ['food', 0.34], ['plan', 0.2903], ['delicious', 0.2678], ['healthy', 0.2617], ['place', 0.2284], ['definitely', 0.1983], ['light', 0.1673]], [['artichoke', 0.5358], ['salad', 0.4966], ['chicken', 0.3324], ['plenty', 0.0924], ['good', 0.0855]], [['soho', 0.4358], ['greek', 0.3219], ['cooking', 0.3016], ['sundays', 0.2915], ['food', 0.2908], ['place', 0.284], ['restroom', 0.281], ['hummus', 0.2541], ['sunday', 0.2527], ['home', 0.2517]], [['sandwich', 0.5199], ['roasted', 0.3794], ['reviews', 0.365], ['bite', 0.3216], ['inside', 0.311], ['friendly', 0.2843], ['small', 0.2817], ['shopping', 0.2806], ['service', 0.2564], ['good', 0.2491]], [['food', 0.3835], ['delicious', 0.324], ['service', 0.3016], ['friends', 0.231], ['bite', 0.2294], ['great', 0.2158], ['good', 0.1929], ['atmosphere', 0.1665], ['catch', 0.0919], ['quick', 0.0684]], [['steak', 0.4467], ['place', 0.3915], ['soup', 0.3855], ['hole', 0.3641], ['lentil', 0.3629], ['wall', 0.359], ['cozy', 0.3513], ['sandwich', 0.3469], ['space', 0.3283], ['bite', 0.2205]], [['dining', 0.5138], ['soho', 0.4288], ['lunch', 0.4246], ['dinner', 0.3866], ['sandwiches', 0.371], ['salad', 0.3506], ['place', 0.3423], ['food', 0.3378], ['soups', 0.3269], ['room', 0.2887]], [['food', 0.3263], ['service', 0.2842], ['friends', 0.1996], ['place', 0.1988], ['amazing', 0.1822], ['coming', 0.1781], ['definitely', 0.1719], ['equally', 0.0983]], [['hummus', 0.4874], ['soho', 0.4167], ['flavors', 0.3946], ['pastitsio', 0.3296], ['delicious', 0.315], ['dolmades', 0.3149], ['fresh', 0.2911], ['starving', 0.2631], ['ingredients', 0.2593], ['service', 0.2568]], [['delicious', 0.5017], ['food', 0.4312], ['tastes', 0.4302], ['love', 0.3673], ['priced', 0.3252], ['consistent', 0.3022], ['clean', 0.2408], ['feels', 0.2086], ['like', 0.1957]], [['soho', 0.4764], ['drinks', 0.3807], ['avenue', 0.3082], ['food', 0.3046], ['stars', 0.2937], ['wall', 0.2921], ['tables', 0.29], ['greek', 0.2899], ['30pm', 0.2851], ['cheap', 0.2775]], [['lamb', 0.7464], ['sandwich', 0.6814], ['delicious', 0.4592]], [['salads', 0.4536], ['salad', 0.4274], ['greek', 0.349], ['healthiest', 0.3462], ['eat', 0.3419], ['snack', 0.3404], ['olive', 0.3247], ['crunchy', 0.261], ['tomatoes', 0.2457], ['eater', 0.244]], [['mediterranean', 0.4794], ['sandwich', 0.4369], ['soho', 0.4293], ['lunch', 0.4263], ['dressings', 0.3209], ['meets', 0.3029], ['lamb', 0.2991], ['soup', 0.2931], ['food', 0.2855], ['seater', 0.2757]], [['tuna', 0.4443], ['sandwich', 0.3223], ['tea', 0.3136], ['place', 0.2435], ['sage', 0.196], ['recommended', 0.1856], ['sick', 0.175], ['highly', 0.1326], ['good', 0.1248], ['friend', 0.1241]], [['greek', 0.5072], ['restaurant', 0.434], ['cozy', 0.3531], ['cheese', 0.3091], ['tiropitakia', 0.3054], ['yogurt', 0.2759], ['tables', 0.2575], ['menu', 0.2552], ['place', 0.2272], ['tzatziki', 0.2153]], [['soho', 0.5623], ['hummus', 0.3814], ['sandwich', 0.3165], ['place', 0.3067], ['salad', 0.3026], ['greek', 0.2642], ['chicken', 0.2481], ['souvlaki', 0.2145], ['great', 0.1393], ['special', 0.1197]], [['taramosalata', 0.6065], ['santorini', 0.5769], ['restaurant', 0.4393], ['shrimp', 0.3739], ['greek', 0.367], ['tastes', 0.2165], ['recommend', 0.1703], ['authentic', 0.152], ['die', 0.1311], ['friend', 0.1133]], [['koftikas', 0.4296], ['pepper', 0.4285], ['meatballs', 0.4052], ['lamb', 0.3899], ['entree', 0.3872], ['salad', 0.3677], ['nuts', 0.3662], ['snack', 0.3488], ['peppers', 0.347], ['pine', 0.3157]], [['establishments', 0.3748], ['nyc', 0.3663], ['place', 0.2977], ['10', 0.2699], ['people', 0.2449], ['area', 0.2415], ['shop', 0.2285], ['smaller', 0.2281], ['tiny', 0.2279], ['max', 0.2192]], [['sandwich', 0.6811], ['lamb', 0.6804], ['eat', 0.4072], ['mmm', 0.3075]], [['pies', 0.4607], ['spinach', 0.4374], ['salad', 0.418], ['artichoke', 0.4127], ['soggy', 0.3577], ['chicken', 0.3288], ['ordered', 0.2954], ['taste', 0.2457], ['portion', 0.2153], ['size', 0.1707]], [['soup', 0.444], ['cafe', 0.4195], ['lamb', 0.3303], ['fresh', 0.3183], ['avgolemono', 0.2855], ['almonds', 0.28], ['onions', 0.2648], ['olive', 0.2516], ['melt', 0.2383], ['favorite', 0.2377]], [['salad', 0.4403], ['eatery', 0.3778], ['avgolemeno', 0.3702], ['artichoke', 0.363], ['potatoes', 0.3339], ['soup', 0.2979], ['kitchen', 0.291], ['snack', 0.2894], ['food', 0.2887], ['delicious', 0.26]], [['snack', 0.5248], ['lunch', 0.4131], ['eaten', 0.3484], ['delicious', 0.3358], ['avgolemono', 0.3251], ['tomato', 0.3247], ['vegetarian', 0.3197], ['souvlaki', 0.2974], ['beans', 0.291], ['soho', 0.2554]], [['lunch', 0.4843], ['restaurant', 0.4513], ['dinner', 0.4505], ['sandwich', 0.3838], ['menu', 0.315], ['lamb', 0.307], ['sit', 0.2379], ['order', 0.2118], ['tip', 0.2115], ['wine', 0.2087]], [['restaurant', 0.4656], ['salad', 0.4572], ['mediterranean', 0.4513], ['dinner', 0.4082], ['greek', 0.3984], ['food', 0.3178], ['soups', 0.3045], ['butter', 0.2597], ['seats', 0.2308], ['bean', 0.2274]], [['sandwich', 0.5289], ['lunch', 0.464], ['lamb', 0.451], ['meals', 0.4387], ['eat', 0.325], ['delicious', 0.3145], ['st', 0.296], ['visit', 0.2575], ['sullivan', 0.2442], ['block', 0.2171]], [['tuna', 0.4323], ['sandwich', 0.3716], ['salad', 0.3502], ['waitress', 0.3015], ['chicken', 0.2901], ['eat', 0.2712], ['ordered', 0.2421], ['disappointment', 0.2337], ['garlic', 0.2273], ['dip', 0.2272]], [['artichoke', 0.5337], ['salad', 0.4383], ['lunch', 0.4148], ['vegetarian', 0.3769], ['grape', 0.3646], ['potato', 0.3575], ['chicken', 0.3463], ['delicious', 0.3374], ['savory', 0.3091], ['baklava', 0.3072]], [['small', 0.4824], ['lamb', 0.402], ['cozy', 0.3839], ['sandwich', 0.3586], ['cramped', 0.3153], ['super', 0.1596], ['felt', 0.1184]], [['cucumber', 0.5148], ['salad', 0.504], ['spinach', 0.3988], ['soggy', 0.3713], ['pie', 0.3681], ['service', 0.3014], ['lukewarm', 0.2528], ['lacklustre', 0.2437], ['local', 0.1681], ['day', 0.1115]], [['hummus', 0.456], ['greek', 0.4384], ['snack', 0.4068], ['food', 0.3398], ['pita', 0.2999], ['tzatziki', 0.2875], ['critic', 0.1965], ['fantastic', 0.1501], ['awesome', 0.1219], ['make', 0.1127]], [['appetizers', 0.5667], ['appetizer', 0.5402], ['snack', 0.4935], ['grape', 0.3735], ['overcooked', 0.3156], ['microwaved', 0.3063], ['grilled', 0.2454], ['leaves', 0.2339], ['feta', 0.2236], ['octopus', 0.2046]], [['lunch', 0.4326], ['lemonade', 0.3855], ['sandwich', 0.3753], ['sandwiches', 0.3703], ['yelp', 0.3074], ['chicken', 0.2661], ['potbelly', 0.2246], ['flavor', 0.2185], ['ordered', 0.2079], ['service', 0.202]], [['platter', 0.4859], ['carp', 0.4575], ['tomato', 0.4348], ['feta', 0.349], ['yums', 0.2594], ['jam', 0.2449], ['sooooooooooooo', 0.1942], ['roe', 0.166], ['combination', 0.1277], ['tried', 0.1137]], [['lamb', 0.4142], ['cozy', 0.3928], ['restaurant', 0.366], ['spanakopitakia', 0.3312], ['flavorless', 0.3219], ['delicious', 0.314], ['sandwich', 0.3057], ['lunch', 0.3018], ['appetizer', 0.2789], ['taste', 0.271]], [['souvlaki', 0.4545], ['vegetarian', 0.4242], ['tzatziki', 0.4097], ['lunch', 0.3552], ['vegetable', 0.344], ['pita', 0.3305], ['taste', 0.3268], ['sauce', 0.3253], ['roasted', 0.2539], ['mess', 0.2529]], [['artichoke', 0.5517], ['salad', 0.4188], ['cheese', 0.387], ['delicious', 0.3542], ['meze', 0.3477], ['chicken', 0.3366], ['feta', 0.3087], ['corner', 0.284], ['table', 0.271], ['park', 0.2647]], [['headrush', 0.4057], ['lamb', 0.3383], ['relaxed', 0.3228], ['sandwich', 0.3001], ['great', 0.2696], ['mood', 0.2624], ['fantastic', 0.2409], ['posting', 0.2359], ['died', 0.2274], ['wait', 0.2195]], [['tasty', 0.5446], ['cramped', 0.4859], ['mmm', 0.4299], ['kind', 0.211]], [['greek', 0.4987], ['restaurant', 0.4596], ['gyro', 0.3821], ['dish', 0.324], ['dishes', 0.3129], ['rice', 0.2547], ['food', 0.2391], ['portions', 0.2056], ['small', 0.1758], ['seats', 0.1554]], [['lunch', 0.4667], ['lemonade', 0.4639], ['salads', 0.432], ['meatballs', 0.4099], ['portions', 0.3865], ['mint', 0.3545], ['lamb', 0.2878], ['delicious', 0.287], ['stars', 0.2754], ['tasty', 0.2651]], [['waitress', 0.5123], ['place', 0.4395], ['taste', 0.3365], ['shopping', 0.3044], ['small', 0.3001], ['delicious', 0.2993], ['friendly', 0.2637], ['wife', 0.1893], ['big', 0.1845], ['stopped', 0.1112]], [['neighborhood', 0.7746], ['place', 0.5365]], [['menu', 0.4203], ['reservation', 0.3781], ['food', 0.3497], ['place', 0.3478], ['service', 0.2452], ['small', 0.146], ['space', 0.1335], ['limited', 0.1232], ['make', 0.1161], ['sure', 0.1073]], [['come', 0.2205], ['place', 0.2187], ['definitely', 0.2072], ['love', 0.1815], ['long', 0.132], ['like', 0.0895], ['wait', 0.0858], ['ve', 0.0094], ['small', 0.0066], ['tried', -0.0021]], [['dinner', 0.4558], ['meal', 0.4556], ['restaurant', 0.4326], ['mediterranean', 0.4024], ['snack', 0.4008], ['food', 0.3798], ['greek', 0.3201], ['desert', 0.3113], ['menu', 0.3092], ['dish', 0.3068]], [['near', 0.3112], ['friendly', 0.2678], ['food', 0.2476], ['relaxed', 0.2198], ['living', 0.2153], ['recommend', 0.1741], ['date', 0.1656], ['come', 0.1344], ['absolutely', 0.1342], ['staff', 0.1278]], [['avgolemono', 0.4419], ['soup', 0.398], ['diner', 0.3943], ['cozy', 0.3267], ['sandwich', 0.32], ['enjoyed', 0.2512], ['waiter', 0.2466], ['fantastic', 0.2443], ['friendly', 0.2418], ['fresh', 0.2168]], [['meal', 0.4446], ['sandwich', 0.4423], ['tuna', 0.4395], ['food', 0.4144], ['mediterranean', 0.4131], ['iced', 0.3547], ['chicken', 0.3528], ['soup', 0.3464], ['eating', 0.3425], ['lamb', 0.3356]], [['soho', 0.4953], ['shopping', 0.4569], ['affordable', 0.3758], ['snack', 0.3754], ['lunch', 0.3616], ['sandwich', 0.3295], ['neighborhood', 0.3174], ['food', 0.2934], ['cozy', 0.2618], ['hunger', 0.2507]], [['snack', 0.4265], ['salad', 0.4191], ['restaurant', 0.4055], ['pies', 0.3991], ['greek', 0.3369], ['savory', 0.3262], ['freshness', 0.3176], ['enjoyed', 0.2135], ['monday', 0.2112], ['modest', 0.2096]], [['greek', 0.4848], ['restaurant', 0.4408], ['waitress', 0.2816], ['table', 0.2401], ['tasty', 0.2224], ['food', 0.2197], ['wonderful', 0.2173], ['cozy', 0.2147], ['waiting', 0.212], ['ordered', 0.2069]], [['dinner', 0.3993], ['mediterranean', 0.3895], ['greek', 0.3611], ['iced', 0.3557], ['snack', 0.3523], ['meatballs', 0.3437], ['cozy', 0.2931], ['toasty', 0.2857], ['coffee', 0.2856], ['rainy', 0.2696]], [['soho', 0.4703], ['sandwich', 0.4293], ['food', 0.3609], ['toronto', 0.345], ['flavours', 0.3385], ['lamb', 0.3098], ['street', 0.2835], ['place', 0.2822], ['reviews', 0.2796], ['chicken', 0.2694]], [['lamb', 0.4193], ['avgolemono', 0.4169], ['meal', 0.3798], ['tzatziki', 0.3724], ['delicious', 0.3404], ['hungry', 0.3302], ['snack', 0.3231], ['flavorful', 0.3205], ['restaurant', 0.3166], ['food', 0.3151]], [['coffee', 0.4526], ['iced', 0.4406], ['order', 0.3852], ['greek', 0.3176], ['omg', 0.168], ['advise', 0.1471], ['heaven', 0.1441], ['style', 0.1226], ['ll', 0.1015], ['good', 0.0894]], [['meals', 0.4233], ['salad', 0.3556], ['pastitsio', 0.3398], ['dinner', 0.335], ['food', 0.3288], ['gigantes', 0.3262], ['bean', 0.3146], ['delicious', 0.2938], ['eat', 0.2909], ['chicken', 0.274]], [['salad', 0.4943], ['dressing', 0.4842], ['chix', 0.3042], ['cheese', 0.2952], ['tasty', 0.2917], ['eggplant', 0.2602], ['delish', 0.2235], ['toasts', 0.1991], ['poached', 0.1608], ['make', 0.1444]], [['food', 0.5416], ['good', 0.3671]], [['lamb', 0.4558], ['sandwich', 0.3954], ['tzatziki', 0.3842], ['sangwich', 0.3842], ['lunch', 0.3742], ['aioli', 0.3295], ['accompaniment', 0.2795], ['taste', 0.2402], ['food', 0.237], ['pita', 0.2239]], [['greek', 0.4536], ['snack', 0.4473], ['restaurant', 0.4255], ['meal', 0.3982], ['dinner', 0.3517], ['yogurt', 0.3475], ['pie', 0.3328], ['waitress', 0.3325], ['food', 0.3258], ['dish', 0.3163]], [['salad', 0.4538], ['soho', 0.4153], ['cheese', 0.3315], ['greek', 0.3305], ['onion', 0.3078], ['place', 0.2643], ['small', 0.2366], ['portion', 0.2063], ['taste', 0.1951], ['friendly', 0.1808]], [['dishes', 0.4076], ['meal', 0.407], ['snack', 0.3963], ['tzadziki', 0.3734], ['crave', 0.3682], ['food', 0.3593], ['greek', 0.3447], ['meatballs', 0.3444], ['tasty', 0.3223], ['menu', 0.3174]], [['lent', 0.4156], ['lunch', 0.3353], ['dinner', 0.3318], ['easter', 0.3318], ['snack', 0.2996], ['sandwich', 0.2894], ['coffee', 0.284], ['steak', 0.2706], ['reservations', 0.2663], ['eating', 0.2381]], [['pikilia', 0.4937], ['plate', 0.4348], ['lunch', 0.4222], ['order', 0.2275], ['coming', 0.2192], ['grabbed', 0.1987], ['staff', 0.1749], ['fast', 0.1637], ['definitely', 0.1322], ['got', 0.1285]], [['restaurant', 0.4892], ['snack', 0.4771], ['dishes', 0.4214], ['waitress', 0.3827], ['greek', 0.3664], ['food', 0.3631], ['meatballs', 0.3576], ['menu', 0.2985], ['favorites', 0.2315], ['feta', 0.2262]], [['spinach', 0.3618], ['food', 0.3535], ['place', 0.3108], ['eating', 0.2966], ['quality', 0.2711], ['cheese', 0.2433], ['puff', 0.2403], ['taste', 0.2294], ['small', 0.2205], ['fresh', 0.1942]], [['greek', 0.5011], ['cuisine', 0.4301], ['dinner', 0.3436], ['cheese', 0.3273], ['entree', 0.2909], ['portions', 0.2789], ['appetizers', 0.2469], ['delicious', 0.2362], ['gyros', 0.2072], ['place', 0.1947]], [['mediterranean', 0.5299], ['pita', 0.3756], ['dishes', 0.3342], ['place', 0.3281], ['salad', 0.324], ['hummus', 0.281], ['soups', 0.2383], ['soup', 0.2164], ['decent', 0.2121], ['beet', 0.1968]], [['hummus', 0.4376], ['restaurant', 0.4326], ['greek', 0.3971], ['menu', 0.2978], ['priced', 0.297], ['pita', 0.2936], ['food', 0.2782], ['items', 0.1898], ['16', 0.1889], ['small', 0.1886]], [['lunches', 0.4363], ['dining', 0.4164], ['moussaka', 0.4089], ['vegetarian', 0.3499], ['ordered', 0.2036], ['best', 0.161], ['takeout', 0.1538], ['definitely', 0.149], ['god', 0.1346], ['experience', 0.1303]], [['restaurant', 0.5325], ['lunch', 0.3856], ['jewelry', 0.3851], ['pastitsio', 0.3781], ['macaroni', 0.3764], ['pie', 0.3172], ['box', 0.2635], ['lovely', 0.2431], ['dine', 0.233], ['tables', 0.2325]], [['dining', 0.5525], ['food', 0.3485], ['place', 0.3209], ['party', 0.2997], ['drinks', 0.2927], ['salad', 0.2855], ['places', 0.2841], ['plates', 0.2824], ['delicious', 0.2532], ['tzatziki', 0.2496]], [['pita', 0.4577], ['yelpers', 0.3776], ['dip', 0.3183], ['snack', 0.315], ['appetizer', 0.3075], ['yucky', 0.2646], ['costly', 0.2491], ['croutons', 0.2395], ['straw', 0.2333], ['eating', 0.2074]], [['restaurant', 0.3874], ['octopus', 0.3819], ['athens', 0.3565], ['dish', 0.3227], ['snack', 0.3168], ['eaten', 0.2988], ['meal', 0.2877], ['serving', 0.2853], ['greeks', 0.2663], ['waiter', 0.2631]], [['snack', 0.4884], ['lamb', 0.4818], ['sandwiches', 0.4552], ['sandwich', 0.4524], ['hummus', 0.3868], ['restaurant', 0.3862], ['food', 0.3855], ['dinner', 0.3616], ['eat', 0.3159], ['flavors', 0.2584]], [['snack', 0.6342], ['snacks', 0.628], ['hungry', 0.4926], ['eating', 0.4711], ['starving', 0.4321], ['eat', 0.4015], ['tasty', 0.3728], ['happiness', 0.2785], ['definitely', 0.1991], ['little', 0.1939]], [['soso', 0.4639], ['note', 0.347], ['worthy', 0.2343], ['really', 0.192], ['hmmm', 0.1708]], [['snack', 0.5315], ['lunch', 0.5113], ['sandwiches', 0.4881], ['sandwich', 0.4768], ['chicken', 0.4051], ['tasty', 0.3104], ['salads', 0.3048], ['soup', 0.284], ['chunks', 0.2715], ['friendly', 0.2417]], [['lunch', 0.5189], ['food', 0.3088], ['place', 0.2499], ['low', 0.1884], ['charming', 0.1741], ['effective', 0.1601], ['key', 0.1429], ['great', 0.1375], ['simple', 0.0327], ['really', 0.0245]], [['lamb', 0.4468], ['sandwich', 0.4241], ['version', 0.409], ['sandwiches', 0.3963], ['software', 0.3519], ['programmer', 0.3235], ['numbers', 0.3204], ['great', 0.249], ['10', 0.1905], ['amused', 0.1179]], [['octopus', 0.4704], ['lunch', 0.3963], ['sandwich', 0.3935], ['meal', 0.3437], ['eggplant', 0.3412], ['dish', 0.3108], ['lamb', 0.2866], ['dinner', 0.275], ['food', 0.2742], ['tasted', 0.2646]], [['restaurant', 0.5115], ['manhattan', 0.4142], ['salads', 0.381], ['wine', 0.3131], ['bland', 0.2967], ['food', 0.2889], ['flavors', 0.2881], ['pleasant', 0.2841], ['decent', 0.2668], ['deli', 0.2551]], [['chicken', 0.4212], ['dishes', 0.3842], ['restaurants', 0.3787], ['meat', 0.3721], ['starches', 0.328], ['food', 0.3257], ['dish', 0.3249], ['roast', 0.3113], ['kitchen', 0.2816], ['nyc', 0.2686]], [['salad', 0.4386], ['artichoke', 0.4162], ['frappe', 0.3941], ['chicken', 0.3023], ['barista', 0.2822], ['delightful', 0.2362], ['servers', 0.2066], ['prepared', 0.1807], ['charming', 0.1782], ['feed', 0.1771]], [['salad', 0.4664], ['lunch', 0.3393], ['dressing', 0.3017], ['greek', 0.279], ['feta', 0.2722], ['nyc', 0.2624], ['entree', 0.2521], ['onions', 0.2478], ['prices', 0.1973], ['price', 0.1523]], [['sandwich', 0.4968], ['sandwiches', 0.4955], ['lunch', 0.4572], ['pie', 0.4081], ['salad', 0.3733], ['cheese', 0.3613], ['savoury', 0.317], ['delicious', 0.2873], ['greek', 0.2493], ['advertised', 0.1937]], [['sandwich', 0.5879], ['tuna', 0.5167], ['lunch', 0.5074], ['chicken', 0.4109], ['tasty', 0.3585], ['delish', 0.3275], ['sublime', 0.3056], ['served', 0.2941], ['tea', 0.2585], ['service', 0.22]], [['taverna', 0.5156], ['snack', 0.4841], ['lunch', 0.4008], ['dinner', 0.2869], ['food', 0.2833], ['salads', 0.2468], ['eat', 0.2412], ['place', 0.1603], ['table', 0.1307], ['great', 0.0989]], [['lunch', 0.5129], ['avgolemono', 0.452], ['greek', 0.4434], ['sandwich', 0.3744], ['salad', 0.3736], ['soup', 0.3682], ['lamb', 0.3045], ['rocked', 0.2095], ['good', 0.122], ['greed', 0.1091]], [['soho', 0.543], ['dining', 0.4825], ['dishes', 0.4367], ['snack', 0.4299], ['food', 0.3208], ['tasty', 0.3155], ['place', 0.3135], ['tourist', 0.3021], ['cute', 0.2177], ['area', 0.2121]], [['restaurants', 0.4232], ['restaurant', 0.3896], ['dinner', 0.366], ['dishes', 0.3632], ['snack', 0.3493], ['chicken', 0.3271], ['food', 0.3251], ['lunchtime', 0.308], ['sandwiches', 0.3071], ['meatballs', 0.2849]], [['tuna', 0.4912], ['sandwich', 0.4501], ['sandwiches', 0.4313], ['snack', 0.4272], ['lamb', 0.3626], ['eggplant', 0.3311], ['dip', 0.3087], ['bread', 0.2957], ['ate', 0.2459], ['tomato', 0.2242]], [['greek', 0.2349], ['waitresses', 0.2249], ['place', 0.2175], ['horrible', 0.2153], ['food', 0.2133], ['prices', 0.1936], ['menu', 0.1911], ['octopus', 0.1666], ['cozy', 0.1542], ['portions', 0.1421]], [['lunch', 0.457], ['foods', 0.4534], ['sandwiches', 0.4299], ['snack', 0.3941], ['mediterranean', 0.392], ['greek', 0.3771], ['vegetarian', 0.3587], ['food', 0.3559], ['salad', 0.3506], ['nook', 0.3491]], [['greek', 0.4954], ['lunch', 0.3807], ['tuna', 0.371], ['sandwiches', 0.3359], ['falafel', 0.3179], ['food', 0.2372], ['yumminess', 0.2194], ['place', 0.1818], ['fresh', 0.1631], ['experience', 0.1564]], [['meal', 0.4352], ['lamb', 0.4201], ['lunch', 0.4029], ['snack', 0.3957], ['dinner', 0.377], ['sandwich', 0.3666], ['eaten', 0.2761], ['tasty', 0.2727], ['delicious', 0.2492], ['menu', 0.245]], [['snack', 0.4784], ['food', 0.4063], ['salads', 0.3793], ['salad', 0.363], ['shrimp', 0.3629], ['entree', 0.3039], ['chicken', 0.3035], ['soup', 0.2697], ['delicious', 0.2663], ['spinach', 0.235]], [['soho', 0.4273], ['coffee', 0.3768], ['dinner', 0.3503], ['shopping', 0.3287], ['iced', 0.3173], ['snack', 0.3154], ['wine', 0.2851], ['hummus', 0.2315], ['serve', 0.2283], ['water', 0.2187]], [['lunch', 0.5187], ['food', 0.4987], ['soup', 0.4054], ['sandwich', 0.3926], ['chickpea', 0.3511], ['stuffed', 0.3374], ['comfort', 0.324], ['portions', 0.303], ['spinach', 0.3023], ['tea', 0.2843]], [['lamb', 0.4735], ['undercooked', 0.4184], ['cheese', 0.4081], ['meat', 0.3847], ['appetizer', 0.3784], ['saganaki', 0.3601], ['rice', 0.3501], ['delicious', 0.3283], ['stifado', 0.3251], ['straddled', 0.2961]], [['souvlaki', 0.425], ['vegetarian', 0.4201], ['sandwiches', 0.3645], ['vegetables', 0.3455], ['lamb', 0.3424], ['small', 0.2761], ['serve', 0.2761], ['cozy', 0.2727], ['flavor', 0.2107], ['variety', 0.2106]], [['customer', 0.3516], ['deliver', 0.3087], ['saturday', 0.2572], ['lemonade', 0.2338], ['morning', 0.2022], ['lamb', 0.1933], ['sandwich', 0.1925], ['noho', 0.1853], ['avgolemono', 0.183], ['food', 0.1629]], [['restaurant', 0.5379], ['avgolemono', 0.3756], ['lemonade', 0.3739], ['bowls', 0.3396], ['favorite', 0.3171], ['mint', 0.274], ['summer', 0.2345], ['breads', 0.2156], ['friends', 0.1825], ['crunchy', 0.1402]], [['restaurant', 0.5128], ['meal', 0.4612], ['sandwich', 0.4099], ['luncheon', 0.4069], ['snack', 0.3934], ['mediterranean', 0.3852], ['salad', 0.3834], ['olives', 0.3669], ['olive', 0.3659], ['soho', 0.3645]], [['hummus', 0.4326], ['lamb', 0.394], ['avgolemon', 0.3403], ['chicken', 0.3325], ['tasty', 0.3278], ['dish', 0.3015], ['restaurant', 0.2882], ['flavorful', 0.2788], ['soup', 0.2581], ['food', 0.2529]], [['sandwich', 0.4781], ['lunch', 0.4665], ['snack', 0.404], ['slices', 0.3642], ['dip', 0.3515], ['lamb', 0.3477], ['appetizer', 0.3359], ['hummus', 0.3333], ['eating', 0.3305], ['dips', 0.3236]], [['soup', 0.3959], ['yelp', 0.3461], ['yelping', 0.3065], ['lunch', 0.298], ['chicken', 0.2936], ['greek', 0.2877], ['lexy', 0.2866], ['salad', 0.2856], ['avgolemono', 0.2739], ['flavorful', 0.2593]], [['snack', 0.482], ['eating', 0.4324], ['food', 0.3829], ['waitress', 0.3808], ['hungry', 0.3765], ['sandwiches', 0.3238], ['entrees', 0.313], ['garlic', 0.3067], ['salad', 0.2876], ['stars', 0.2624]], [['lunch', 0.3872], ['sandwich', 0.3318], ['date', 0.2711], ['bread', 0.2538], ['flavorful', 0.2446], ['lemonade', 0.2358], ['memorable', 0.2258], ['topped', 0.2056], ['tender', 0.2015], ['lamb', 0.1968]], [['snack', 0.4238], ['meal', 0.4165], ['lunch', 0.3752], ['dinner', 0.3608], ['restaurant', 0.3586], ['lamb', 0.3392], ['sandwich', 0.3385], ['appetizer', 0.3126], ['chicken', 0.3054], ['greek', 0.2989]], [['coffee', 0.3845], ['sandwich', 0.3601], ['food', 0.3079], ['place', 0.2672], ['appetizers', 0.2645], ['mint', 0.2333], ['africa', 0.231], ['tastes', 0.2223], ['chicken', 0.2184], ['trips', 0.2169]], [['restaurants', 0.494], ['dinner', 0.4688], ['meal', 0.4374], ['snack', 0.3721], ['nyc', 0.3526], ['kitchen', 0.3482], ['soho', 0.3264], ['ny', 0.3234], ['stew', 0.3071], ['mousaka', 0.3055]], [['wine', 0.4536], ['soho', 0.4311], ['appetizer', 0.3852], ['flavorful', 0.3595], ['waitress', 0.3385], ['lamb', 0.3359], ['tender', 0.3127], ['shopping', 0.302], ['taste', 0.3002], ['savory', 0.2858]], [['pennies', 0.5081], ['cents', 0.414], ['dime', 0.3418], ['quarter', 0.2771], ['sandwich', 0.2634], ['minutes', 0.1882], ['snack', 0.1877], ['tick', 0.1837], ['pile', 0.1801], ['bloody', 0.1724]], [['hummus', 0.6244], ['snack', 0.4353], ['appetizers', 0.3649], ['pita', 0.3592], ['platter', 0.3173], ['containers', 0.2844], ['place', 0.233], ['eat', 0.2283], ['better', 0.1386], ['decent', 0.1173]], [['sandwich', 0.4221], ['tuna', 0.4147], ['cozy', 0.3677], ['eat', 0.3595], ['cheese', 0.3283], ['artichokes', 0.3192], ['bread', 0.3132], ['lamb', 0.3052], ['small', 0.3021], ['tomatoes', 0.3011]], [['lemonade', 0.4739], ['food', 0.4157], ['fresh', 0.374], ['tasty', 0.3524], ['salad', 0.3414], ['party', 0.3279], ['cheese', 0.3158], ['seating', 0.3081], ['chicken', 0.3027], ['mint', 0.2898]], [['rudeness', 0.406], ['rude', 0.3642], ['almond', 0.3571], ['entrees', 0.2882], ['cheese', 0.2876], ['dessert', 0.2849], ['ordering', 0.2431], ['pita', 0.2389], ['triangles', 0.2184], ['order', 0.2113]], [['seats', 0.5425], ['taramosalata', 0.5008], ['souvlaki', 0.4027], ['10', 0.2962], ['food', 0.2589], ['staff', 0.2408], ['friendly', 0.2214], ['flavor', 0.2081], ['fresh', 0.2065], ['homemade', 0.1928]], [['greek', 0.4148], ['lamb', 0.3743], ['food', 0.3732], ['eggplant', 0.334], ['decent', 0.2407], ['sirloin', 0.2042], ['special', 0.1283], ['good', 0.1141], ['pretty', 0.0998], ['ground', 0.0978]], [['sangwich', 0.5896], ['sangwiches', 0.5854], ['lamb', 0.4948], ['bread', 0.3139], ['chef', 0.279], ['ingredients', 0.2666], ['experienced', 0.2242], ['lunch', 0.1621], ['incredible', 0.1341], ['comes', 0.07]], [['sandwich', 0.4068], ['snack', 0.398], ['lamb', 0.3866], ['soho', 0.3519], ['oasis', 0.3149], ['tender', 0.2998], ['fantastic', 0.2768], ['friendly', 0.2362], ['amazing', 0.2183], ['extremely', 0.2091]], [['lunch', 0.473], ['nyc', 0.4109], ['sandwich', 0.3685], ['dinner', 0.3685], ['food', 0.3486], ['salad', 0.3231], ['place', 0.2868], ['plate', 0.2856], ['lamb', 0.2715], ['service', 0.2381]], [['snack', 0.4784], ['lunch', 0.4693], ['soho', 0.4184], ['food', 0.3907], ['salad', 0.3722], ['tasty', 0.3265], ['lemonade', 0.3149], ['vegetarian', 0.3055], ['pie', 0.3025], ['spinach', 0.2864]], [['sandwich', 0.4731], ['lunch', 0.4708], ['lamb', 0.4426], ['food', 0.3689], ['lunchmates', 0.3249], ['salad', 0.3112], ['delicious', 0.2922], ['tasty', 0.2745], ['feta', 0.2659], ['waitress', 0.2427]], [['snack', 0.3759], ['dinner', 0.3718], ['shrimp', 0.3016], ['tzatziki', 0.2968], ['seating', 0.2897], ['rents', 0.2656], ['platter', 0.2409], ['entree', 0.2373], ['grilled', 0.2255], ['waitress', 0.2248]], [['bagged', 0.3824], ['bagging', 0.3656], ['lamb', 0.3598], ['lunch', 0.3597], ['food', 0.3303], ['orders', 0.3298], ['sandwhich', 0.3217], ['beer', 0.2917], ['coordination', 0.2764], ['seated', 0.2536]], [['sandwich', 0.5138], ['lamb', 0.4767], ['lunch', 0.4609], ['agree', 0.2566], ['went', 0.2211], ['came', 0.1613], ['good', 0.152], ['say', 0.0937], ['really', 0.088], ['got', 0.0414]], [['lamb', 0.5089], ['sandwich', 0.4419], ['perfection', 0.2457], ['order', 0.242], ['fight', 0.1629], ['bring', 0.1607], ['long', 0.0735]], [['sandwich', 0.4944], ['restaurant', 0.4116], ['meal', 0.4002], ['marinated', 0.3948], ['benches', 0.32], ['vegetable', 0.3131], ['bench', 0.3004], ['eaten', 0.2999], ['eat', 0.2909], ['interior', 0.256]], [['pikilia', 0.4277], ['eggplant', 0.4121], ['dish', 0.3318], ['pitas', 0.327], ['pita', 0.3181], ['appetizers', 0.3167], ['dessert', 0.2858], ['meal', 0.273], ['prices', 0.2665], ['portions', 0.2618]], [['lamb', 0.4862], ['sandwich', 0.4842], ['lemonade', 0.4752], ['tender', 0.4304], ['flavor', 0.3856], ['mint', 0.3777], ['succulent', 0.3617], ['menu', 0.2724], ['spring', 0.2429], ['bursting', 0.2129]], [['mediterranean', 0.5249], ['pitas', 0.4337], ['dishes', 0.4273], ['dinner', 0.3865], ['greek', 0.3384], ['food', 0.302], ['wine', 0.2942], ['snack', 0.2734], ['platter', 0.2603], ['place', 0.2493]], [['lunch', 0.4231], ['gigantes', 0.37], ['beans', 0.3439], ['bean', 0.3422], ['cozy', 0.3207], ['salad', 0.3043], ['york', 0.2997], ['lemonade', 0.287], ['gigantic', 0.2526], ['mint', 0.2509]], [['hummus', 0.4221], ['lunch', 0.3928], ['meal', 0.3862], ['carp', 0.3771], ['lettuce', 0.3639], ['artichokes', 0.3541], ['chicken', 0.3377], ['salad', 0.3351], ['sandwiches', 0.3332], ['artichoke', 0.3322]], [['lunch', 0.4103], ['sandwich', 0.3145], ['york', 0.2975], ['food', 0.297], ['place', 0.2591], ['lamb', 0.2487], ['chicken', 0.2422], ['california', 0.2413], ['friendly', 0.2223], ['away', 0.221]], [['salad', 0.4261], ['sandwich', 0.3626], ['greek', 0.3546], ['food', 0.3358], ['lamb', 0.2285], ['fresh', 0.2056], ['week', 0.1755], ['life', 0.1689], ['produce', 0.1459], ['haven', 0.1282]], [['baklava', 0.4456], ['salad', 0.3883], ['grape', 0.3837], ['meal', 0.3188], ['eggplant', 0.3003], ['diet', 0.275], ['spinach', 0.2673], ['soda', 0.2633], ['tasty', 0.2577], ['pie', 0.2363]], [['pricing', 0.4432], ['prices', 0.3785], ['tax', 0.375], ['snack', 0.3294], ['pricey', 0.305], ['eggplant', 0.3025], ['moussaka', 0.2869], ['price', 0.2786], ['lunch', 0.2696], ['food', 0.2613]], [['soho', 0.507], ['sandwich', 0.4192], ['place', 0.416], ['snack', 0.3897], ['lamb', 0.3564], ['apartment', 0.3234], ['flavourful', 0.3104], ['greek', 0.3066], ['shopping', 0.3052], ['cute', 0.2898]], [['nyc', 0.5428], ['soho', 0.5288], ['places', 0.3755], ['culinary', 0.3497], ['place', 0.3316], ['lunch', 0.3029], ['south', 0.2949], ['destination', 0.2038], ['cramped', 0.1921], ['room', 0.1879]], [['mushroom', 0.4284], ['mushrooms', 0.4134], ['baklava', 0.3841], ['diner', 0.3638], ['greek', 0.288], ['lamb', 0.286], ['mousaka', 0.2798], ['vegetarian', 0.263], ['food', 0.2554], ['flavorful', 0.248]], [['lunch', 0.48], ['soho', 0.4313], ['sandwich', 0.4257], ['snack', 0.4094], ['food', 0.3382], ['chicken', 0.3298], ['bread', 0.2848], ['place', 0.233], ['lamb', 0.2324], ['bland', 0.2295]], [['lunch', 0.4471], ['snack', 0.4191], ['sandwich', 0.3878], ['san', 0.3595], ['nyc', 0.3352], ['soho', 0.3283], ['food', 0.3051], ['mediterranean', 0.299], ['cozy', 0.2566], ['lamb', 0.2463]], [['dinner', 0.5041], ['snack', 0.3968], ['food', 0.3695], ['portions', 0.3468], ['rich', 0.3113], ['delicious', 0.3056], ['marry', 0.3052], ['drinks', 0.2975], ['cozy', 0.2858], ['platter', 0.2693]], [['soup', 0.4792], ['salad', 0.4209], ['chicken', 0.4129], ['soho', 0.3903], ['greek', 0.3527], ['milky', 0.3279], ['lemon', 0.291], ['broth', 0.2782], ['buttery', 0.2489], ['unique', 0.2017]], [['sandwiches', 0.4385], ['chicken', 0.3834], ['rocked', 0.2668], ['soho', 0.2462], ['ingredients', 0.2439], ['review', 0.1981], ['wow', 0.1817], ['best', 0.1772], ['sarcastic', 0.1691], ['awesome', 0.1691]], [['lunch', 0.5079], ['delicious', 0.3166], ['place', 0.315], ['food', 0.3059], ['seat', 0.2754], ['cramped', 0.243], ['amazing', 0.2013], ['great', 0.1914], ['space', 0.1362], ['little', 0.1188]], [['food', 0.4012], ['dish', 0.3885], ['yummers', 0.3722], ['dishes', 0.3717], ['beef', 0.3636], ['cow', 0.3606], ['fish', 0.3548], ['tasty', 0.3449], ['place', 0.3164], ['flavor', 0.3136]], [['sandwich', 0.4473], ['lamb', 0.4437], ['onions', 0.3576], ['bread', 0.3184], ['eating', 0.3098], ['delicious', 0.2921], ['eat', 0.2689], ['lunchtime', 0.2538], ['chewy', 0.2427], ['toasted', 0.2346]], [['snack', 0.4025], ['tzanziki', 0.4001], ['salads', 0.3314], ['salad', 0.3033], ['hummus', 0.2868], ['menu', 0.2701], ['eggplant', 0.2554], ['eats', 0.2549], ['greek', 0.2527], ['olives', 0.2367]], [['sandwich', 0.424], ['tasty', 0.3845], ['greek', 0.376], ['cucumber', 0.334], ['kefi', 0.3067], ['fresh', 0.3066], ['cheap', 0.2661], ['soho', 0.2093], ['yummy', 0.1983], ['travel', 0.1974]], [['sandwiches', 0.4328], ['chewy', 0.4129], ['lemonade', 0.3765], ['frozen', 0.3563], ['bread', 0.3382], ['lunch', 0.327], ['mint', 0.3257], ['sour', 0.3247], ['lamb', 0.3066], ['chicken', 0.2985]], [['sandwiches', 0.5262], ['hummus', 0.5089], ['sandwich', 0.4866], ['snack', 0.4836], ['lunch', 0.4313], ['bread', 0.3376], ['vegetarian', 0.3374], ['pies', 0.3205], ['chewy', 0.3018], ['crusty', 0.2992]], [['greek', 0.4528], ['places', 0.369], ['city', 0.3181], ['tables', 0.2702], ['food', 0.252], ['service', 0.2259], ['spot', 0.2135], ['phone', 0.189], ['opens', 0.1628], ['great', 0.1159]], [['lunch', 0.4586], ['greece', 0.3998], ['chicken', 0.3513], ['food', 0.2735], ['yummy', 0.2714], ['delicious', 0.2588], ['pleasant', 0.2556], ['afternoon', 0.2464], ['loved', 0.1976], ['experience', 0.1792]], [['snack', 0.5534], ['lunch', 0.451], ['sandwiches', 0.3721], ['moussaka', 0.3279], ['eat', 0.3141], ['delicious', 0.3031], ['stuffed', 0.2643], ['fresh', 0.1993], ['adorable', 0.1831], ['grape', 0.1725]], [['meatballs', 0.3792], ['dinner', 0.3539], ['skordalia', 0.3355], ['sandwiches', 0.3351], ['romantic', 0.3159], ['place', 0.3115], ['dates', 0.2778], ['bathroom', 0.2744], ['cute', 0.2587], ['liked', 0.1853]], [['beers', 0.3025], ['snacks', 0.2996], ['iphone', 0.2912], ['food', 0.289], ['baklava', 0.2842], ['beer', 0.2796], ['cash', 0.2732], ['tasted', 0.2423], ['cards', 0.2394], ['tasty', 0.2379]], [['greek', 0.4947], ['manhattan', 0.3933], ['olive', 0.2958], ['authentic', 0.2787], ['salad', 0.2453], ['flavor', 0.2432], ['food', 0.2299], ['dinner', 0.2289], ['tomato', 0.2081], ['onion', 0.207]], [['snack', 0.5165], ['hummus', 0.4322], ['aps', 0.3508], ['soup', 0.3301], ['tasty', 0.3217], ['chicken', 0.3197], ['delicious', 0.2842], ['pasta', 0.2811], ['tzaziki', 0.2744], ['pricey', 0.2408]], [['snack', 0.4442], ['lunch', 0.4429], ['pita', 0.3902], ['pie', 0.3824], ['appetizer', 0.3553], ['entree', 0.3493], ['salad', 0.3441], ['waitress', 0.2898], ['cherry', 0.2722], ['specials', 0.2684]], [['snack', 0.4951], ['lunch', 0.3816], ['vegetarian', 0.381], ['ny', 0.3614], ['denver', 0.3506], ['dinner', 0.2745], ['places', 0.2392], ['visit', 0.2283], ['souvlaki', 0.2256], ['miss', 0.1721]], [['restaurant', 0.477], ['wines', 0.4115], ['wine', 0.3734], ['alcohol', 0.327], ['cons', 0.3141], ['milwaukee', 0.3082], ['food', 0.2703], ['pros', 0.2685], ['service', 0.2437], ['drink', 0.2409]], [['lunch', 0.4784], ['hummus', 0.3584], ['place', 0.3427], ['shopping', 0.3012], ['chicken', 0.2934], ['sustenance', 0.2689], ['eat', 0.2617], ['potatoes', 0.243], ['cheap', 0.1888], ['small', 0.1758]], [['platter', 0.3915], ['lemonade', 0.3335], ['peppers', 0.3081], ['seat', 0.306], ['eat', 0.2659], ['place', 0.2603], ['mint', 0.2433], ['pita', 0.2389], ['portobello', 0.2377], ['cibatta', 0.2284]], [['restaurant', 0.4973], ['foods', 0.4135], ['food', 0.386], ['snack', 0.3826], ['cheese', 0.3673], ['dish', 0.3581], ['greek', 0.3538], ['eating', 0.341], ['reservation', 0.2566], ['tables', 0.2498]], [['minneapolis', 0.4147], ['greek', 0.4107], ['dishes', 0.3453], ['pies', 0.3109], ['meatballs', 0.2992], ['appetizer', 0.2936], ['snack', 0.2847], ['uptown', 0.2836], ['food', 0.2794], ['eating', 0.2469]], [['lunch', 0.5698], ['sandwich', 0.4425], ['salad', 0.364], ['tuna', 0.3405], ['delicious', 0.3094], ['tables', 0.2616], ['topped', 0.26], ['table', 0.2508], ['butter', 0.2469], ['dips', 0.2419]], [['lamb', 0.4611], ['baklava', 0.4044], ['baklavas', 0.3795], ['restaurant', 0.3784], ['sandwich', 0.3651], ['flavorful', 0.3496], ['slice', 0.3249], ['bread', 0.304], ['kashkaval', 0.2946], ['hummus', 0.2777]], [['chairs', 0.4611], ['seat', 0.4486], ['food', 0.3981], ['hole', 0.3137], ['takeout', 0.3073], ['veggie', 0.2962], ['hummus', 0.2864], ['wall', 0.2599], ['delicious', 0.2403], ['10', 0.1589]], [['salad', 0.4723], ['eating', 0.3533], ['sandwich', 0.3466], ['eat', 0.323], ['benches', 0.3157], ['place', 0.3076], ['establishment', 0.3057], ['greek', 0.2907], ['sit', 0.2723], ['chicken', 0.27]], [['lunch', 0.4698], ['salad', 0.4183], ['bean', 0.3968], ['artichoke', 0.3891], ['beans', 0.3806], ['dinner', 0.3471], ['chicken', 0.3111], ['spot', 0.2208], ['perfect', 0.1644], ['mouth', 0.1635]], [['sandwich', 0.5304], ['lamb', 0.5076], ['bread', 0.4452], ['arugala', 0.4027], ['chicago', 0.3673], ['food', 0.3591], ['ciabatta', 0.3231], ['greek', 0.3015], ['ny', 0.2883], ['fat', 0.2701]], [['snack', 0.461], ['sandwich', 0.4368], ['lunch', 0.4265], ['bread', 0.4179], ['lamb', 0.3588], ['food', 0.3097], ['st', 0.3049], ['soggy', 0.3043], ['delicious', 0.2513], ['chomping', 0.2446]], [['yogurt', 0.5257], ['granola', 0.3566], ['syrups', 0.3496], ['snack', 0.3399], ['almond', 0.3355], ['syrup', 0.3312], ['almonds', 0.3304], ['cookies', 0.3075], ['apricot', 0.3053], ['meals', 0.2961]], [['lunch', 0.4857], ['dining', 0.4816], ['dinner', 0.4815], ['yummy', 0.4716], ['restaurant', 0.3454], ['menu', 0.2783], ['fussy', 0.2706], ['sour', 0.2152], ['bite', 0.2143], ['friendly', 0.2124]], [['lunch', 0.5134], ['sandwiches', 0.4677], ['sandwich', 0.4087], ['cuisine', 0.3786], ['taverna', 0.366], ['bedford', 0.3286], ['lemonade', 0.3173], ['snack', 0.3062], ['yelp', 0.2808], ['place', 0.2429]], [['lunch', 0.4459], ['food', 0.4304], ['sandwiches', 0.4135], ['sandwich', 0.4063], ['snack', 0.403], ['eating', 0.3964], ['chicken', 0.3933], ['soup', 0.3718], ['lamb', 0.3635], ['lemonade', 0.3133]], [['lunch', 0.4211], ['sandwich', 0.4001], ['greek', 0.3762], ['chicken', 0.3604], ['salad', 0.2962], ['meat', 0.2855], ['menu', 0.267], ['pie', 0.2325], ['seats', 0.2104], ['tomatoes', 0.1919]], [['snack', 0.418], ['lunch', 0.4096], ['spring', 0.38], ['sandwich', 0.3626], ['street', 0.3365], ['place', 0.303], ['chicken', 0.2878], ['lived', 0.252], ['addiction', 0.2313], ['corner', 0.2281]], [['salad', 0.5009], ['lunch', 0.4281], ['lettuce', 0.319], ['chicken', 0.3154], ['vegetable', 0.2901], ['greens', 0.2779], ['dressing', 0.276], ['chalkboard', 0.2495], ['healthy', 0.2484], ['onions', 0.247]], [['greek', 0.4351], ['greece', 0.4038], ['dinner', 0.3322], ['lunch', 0.3264], ['meal', 0.3139], ['menu', 0.294], ['garlic', 0.2883], ['soho', 0.2849], ['spanikopita', 0.2715], ['serving', 0.2621]], [['sandwiches', 0.5254], ['sandwich', 0.4847], ['bread', 0.3879], ['breads', 0.3813], ['hummus', 0.3757], ['soho', 0.3552], ['cozy', 0.2813], ['mmmm', 0.2658], ['crunchy', 0.2303], ['healthy', 0.2201]], [['lunch', 0.4845], ['york', 0.4149], ['food', 0.3719], ['sandwich', 0.3463], ['artichoke', 0.2707], ['salad', 0.2561], ['mezes', 0.2311], ['chicken', 0.2265], ['place', 0.1993], ['pikilia', 0.1986]], [['snack', 0.5723], ['meals', 0.5131], ['eating', 0.5021], ['almonds', 0.3463], ['spinach', 0.3385], ['pie', 0.3216], ['eggplant', 0.2937], ['squidgen', 0.2373], ['soho', 0.2354], ['lemon', 0.2314]], [['restaurant', 0.4469], ['baklava', 0.4163], ['snack', 0.4116], ['lunch', 0.3771], ['dishes', 0.3469], ['greek', 0.3288], ['cheese', 0.3138], ['tasty', 0.3082], ['vegetarian', 0.2907], ['savory', 0.2886]], [['spinach', 0.4394], ['salad', 0.4339], ['lunch', 0.3693], ['lemonade', 0.3049], ['snack', 0.3021], ['greek', 0.2871], ['pastitsio', 0.2784], ['triangles', 0.2744], ['park', 0.2421], ['nearby', 0.2174]], [['greek', 0.4815], ['desserts', 0.3896], ['yogurt', 0.3802], ['meze', 0.373], ['spanakopitakia', 0.3633], ['dishes', 0.3548], ['cozy', 0.3409], ['garlic', 0.3301], ['baklava', 0.2935], ['tzatziki', 0.2799]], [['pizza', 0.5015], ['pasta', 0.3323], ['friendly', 0.3313], ['neighborhood', 0.3228], ['salad', 0.3226], ['place', 0.2939], ['table', 0.2676], ['excellent', 0.218], ['portions', 0.2115], ['generous', 0.179]], [['pizza', 0.4982], ['cappuccino', 0.4146], ['ate', 0.2865], ['crust', 0.2835], ['mushrooms', 0.2831], ['order', 0.273], ['delicious', 0.268], ['ordered', 0.2646], ['7pm', 0.2577], ['artichokes', 0.242]], [['pizza', 0.4837], ['pepperoni', 0.4768], ['pie', 0.4393], ['margarita', 0.3808], ['penne', 0.3764], ['delicious', 0.3169], ['food', 0.3061], ['chicken', 0.2989], ['vodka', 0.2747], ['customer', 0.2634]], [['mushrooms', 0.4613], ['pizza', 0.4416], ['canned', 0.3711], ['sausage', 0.346], ['chef', 0.269], ['crust', 0.2624], ['leftovers', 0.2549], ['tasting', 0.2272], ['quality', 0.2188], ['shroom', 0.2104]], [['pizza', 0.4426], ['brick', 0.362], ['authentic', 0.3565], ['oven', 0.3529], ['pretentious', 0.2714], ['wonderfully', 0.2064], ['experience', 0.1898], ['going', 0.1668], ['neighborhood', 0.1653], ['place', 0.1633]], [['pizza', 0.5071], ['pepperoni', 0.4601], ['pie', 0.389], ['eggplant', 0.3173], ['splurge', 0.2964], ['pricing', 0.273], ['rolls', 0.2449], ['plain', 0.1909], ['totally', 0.1265], ['half', 0.1178]], [['pizza', 0.5346], ['delicious', 0.3322], ['love', 0.2287]], [['diavola', 0.5136], ['pizza', 0.4671], ['service', 0.2509], ['local', 0.1974], ['definitely', 0.1968], ['superb', 0.1936], ['absolutely', 0.1637], ['spot', 0.1578], ['amazing', 0.1476], ['make', 0.1347]], [['pizza', 0.526], ['oven', 0.4011], ['brick', 0.284], ['yummy', 0.266], ['food', 0.2615], ['place', 0.2382], ['review', 0.2257], ['sunday', 0.221], ['recommend', 0.1956], ['fresh', 0.1759]], [['pizza', 0.4988], ['prosciutto', 0.3396], ['blanca', 0.3329], ['yelp', 0.2961], ['ny', 0.2814], ['recommendation', 0.2207], ['small', 0.2013], ['totally', 0.1709], ['half', 0.1403], ['think', 0.1129]], [['pizza', 0.4444], ['pie', 0.4402], ['brooklyn', 0.4386], ['diavola', 0.3341], ['drinks', 0.3145], ['beer', 0.3064], ['yelp', 0.2656], ['peppino', 0.255], ['crowded', 0.2239], ['home', 0.2183]], [['pizza', 0.4426], ['peppino', 0.4073], ['park', 0.3437], ['basic', 0.2219], ['slope', 0.2197], ['place', 0.1658], ['franny', 0.1443], ['solid', 0.1419], ['fancy', 0.1398], ['serves', 0.107]], [['restaurants', 0.4844], ['restaurant', 0.482], ['italian', 0.4316], ['italy', 0.3845], ['steaks', 0.3641], ['opera', 0.3038], ['waitress', 0.2895], ['food', 0.2681], ['boscaiola', 0.2543], ['smell', 0.2522]], [['pizza', 0.4297], ['brooklyn', 0.4155], ['philly', 0.3396], ['storefront', 0.2971], ['steaks', 0.2838], ['brick', 0.249], ['cheese', 0.239], ['eaten', 0.211], ['oven', 0.2051], ['salads', 0.1937]]]\n"
          ]
        }
      ]
    },
    {
      "cell_type": "code",
      "source": [
        "keywords_set = set()\n",
        "\n",
        "for sublist in loaded_keywords_restaurant:\n",
        "    for word, _ in sublist:\n",
        "        keywords_set.add(word)\n",
        "\n",
        "# Convert set to list to remove duplicates\n",
        "restaurant_words_list = list(keywords_set)"
      ],
      "metadata": {
        "id": "TzR5mMoBl8gC"
      },
      "execution_count": null,
      "outputs": []
    },
    {
      "cell_type": "code",
      "source": [
        "# Save to a file\n",
        "with open('restaurant_words_list.json', 'w') as file:\n",
        "    json.dump(restaurant_words_list, file)\n"
      ],
      "metadata": {
        "id": "j5h-3_9IGZoz"
      },
      "execution_count": null,
      "outputs": []
    },
    {
      "cell_type": "code",
      "source": [
        "# Load the keywords from the file\n",
        "with open('restaurant_words_list.json', 'r') as file:\n",
        "    loaded_restaurant_words_list = json.load(file)\n",
        "\n",
        "# Now, loaded_hotel_words contains the list of keywords\n",
        "print(loaded_restaurant_words_list)\n"
      ],
      "metadata": {
        "id": "KCB0x0XvGgDQ",
        "outputId": "221ca3fb-2533-4c4c-ab66-6c838ff55d66",
        "colab": {
          "base_uri": "https://localhost:8080/"
        }
      },
      "execution_count": null,
      "outputs": [
        {
          "output_type": "stream",
          "name": "stdout",
          "text": [
            "['enjoyed', 'got', 'marijuana', 'inexpensive', 'happiness', 'bathroom', 'flavours', 'stayed', 'horrible', 'cosy', 'saganaki', 'enjoy', 'spinach', 'version', 'champagne', 'pita', 'party', 'client', 'pizzeria', 'special', 'nearby', 'sustenance', 'baklavas', 'items', 'fassen', 'frappe', 'chorizo', 'braised', 'escargot', 'uptown', 'fact', 'mezes', 'tasting', 'small', 'bartender', 'treated', 'byow', 'wow', 'friend', 'liked', 'flavorful', 'edibles', 'breads', 'butter', 'oven', 'children', 'popular', 'syrup', 'jam', 'pile', 'pennies', 'lexy', 'dance', 'dime', 'restroom', 'consistent', 'toasted', 'ordered', 'lemonade', 'book', 'sauce', 'romantic', 'souvlaki', 'bridal', 'bloody', 'gourmet', 'catch', 'grape', 'mussels', 'drank', 'chalkboard', 'cornichons', 'employee', 'pricy', 'stifado', 'galicia', 'croutons', 'leave', 'marina', 'world', 'basil', 'pregame', 'fancy', 'travel', 'seat', 'undercooked', 'opera', 'bistrot', 'fave', 'parisien', 'bread', 'pizza', 'childhood', 'dionner', 'salmon', 'delight', 'attentive', 'extremely', 'gerichtssitzung', 'chose', 'recommended', 'carp', 'vibe', 'helpful', 'ok', 'giving', 'peope', 'long', 'good', 'bursting', 'flavor', 'turned', 'denver', 'chef', 'prepared', 'plan', 'waitresses', 'die', 'hungry', 'overall', 'minneapolis', 'nai', 'crammed', 'dip', 'raoul', 'reasonable', 'terrific', 'toppings', 'check', 'minutes', 'manhattan', 'hunger', 'value', 'thursday', 'avgolemon', 'poached', 'veggie', 'soho', 'think', 'summer', 'sirloin', 'vegetarian', 'shows', 'size', 'ciabatta', 'rock', 'seater', 'seated', 'onion', 'prefer', 'cooking', 'planned', 'wine', 'potatoes', 'chairs', 'sandwhich', 'martini', 'hurricane', 'mmm', 'numbers', 'brussel', 'deceived', 'toronto', 'thanks', 'rolls', 'impressed', 'peanut', 'roasted', 'crusty', 'shared', 'asparagus', 'worth', 'feed', 'galician', 'weekdays', 'dover', 'crust', 'tiny', 'soggy', 'marinated', 'rice', 'average', 'gefordert', 'quality', 'brooklyn', 'ham', 'monsieur', 'ramon', 'pio', 'octopus', 'tried', 'rents', 'pine', 'advertised', 'dancing', 'boqueria', 'miss', 'sandwiches', 'mother', 'tommys', 'cheesesteaks', 'sarcastic', 'squidgen', 'saturday', 'storefront', 'fried', 'crunchy', 'groups', 'memorable', 'extra', 'lunching', 'espresso', 'opens', 'perfect', 'eggplant', 'friendly', 'just', 'mushroom', 'bacalaos', 'trips', 'shopping', 'arugala', 'yucky', 'croque', 'warm', 'point', 'soulful', 'parisein', 'hours', 'gem', 'cream', 'surprised', 'riding', 'sweet', 'chat', 'pricing', 'performances', 'plate', 'meat', 'cibatta', 'mouth', 'beef', 'byob', 'grapes', 'amazing', 'cigar', 'delightful', 'went', 'limited', 'theatre', 'let', 'crowd', 'programmer', 'foods', 'mint', 'ingredients', 'stuffed', 'pastitsio', 'winelist', 'barista', 'sausage', 'located', 'smallish', 'mozzarella', 'dishes', 'toast', 'make', 'delicious', 'york', 'goulsh', 'plates', 'establishment', 'olive', 'mushrooms', 'customers', 'sangria', 'apple', 'tuna', 'spanakopitakia', 'subs', 'dessert', 'street', 'financial', 'row', 'orange', 'corner', 'italy', 'france', 'ridge', 'coordination', 'starving', 'bar', 'neighbor', 'st', 'frozen', 'burgers', 'list', 'shut', 'aps', 'perfection', 'evening', 'lot', 'produce', 'appetite', 'flavors', 'entrees', 'cafe', 'hmmm', 'diner', 'plain', 'chicken', 'specials', '30minutes', 'fan', 'pasta', 'guts', 'sick', 'fresh', 'chopped', 'max', 'tea', 'pies', 'taramosalata', 'water', 'awful', 'experienced', 'phenomenal', 'kefi', 'stew', 'effective', 'peruvian', 'wines', 'franny', 'fish', 'savory', 'mess', 'graphics', 'cheap', 'workers', 'group', 'family', 'pollo', 'amused', 'chilly', 'madrid', 'locations', 'midtown', 'planning', 'granola', 'lemon', 'pimientos', 'close', 'maybe', 'easter', 'hot', 'pancakes', 'lunchtime', 'spanish', 'hell', 'ny', 'dolmades', 'vegetables', 'spanikopita', 'people', 'frequently', 'brew', 'phone', 'sprouts', 'juicy', 'br', 'night', 'arrive', 'happy', 'delivery', 'tasted', 'wish', 'portion', 'yums', 'onions', 'wall', 'week', 'greed', 'dates', 'yuck', 'headrush', 'cherry', 'la', 'freshness', 'return', 'pretty', 'lady', 'real', 'away', 'simple', 'leftovers', 'bland', 'recommend', 'tasty', 'drinking', 'dips', 'liquors', 'meatballs', 'credit', 'parties', 'platter', 'll', 'greeted', 'number', 'favour', 'potbelly', 'cucumber', 'salad', 'appetizers', 'waiter', 'gyro', 'toasty', 'yelping', 'eaten', 'cozy', 'entree', 'prices', 'music', 'affordable', 'verde', 'died', 'sacredness', 'dine', 'blow', 'add', 'casual', 'stars', 'spot', 'dough', 'excellent', 'gewesen', 'creamy', 'accompaniment', 'cookies', 'pros', 'jewelry', 'enjoying', 'joint', 'big', 'almonds', 'microwaved', 'nyc', 'meets', 'tasteless', 'seafood', 'squeezed', 'grabbed', 'steak', 'carry', 'waiting', 'sealer', 'sangwich', 'area', 'flavourful', 'bachelorette', 'cents', 'le', 'near', 'frites', 'theater', 'crisps', 'unique', 'healthiest', 'beverage', 'recipe', 'places', 'adorable', 'rack', 'hits', 'rosemary', 'tzanziki', 'restaurants', 'peppers', 'skordalia', 'generous', 'avenue', 'work', 'roe', 'pleasures', 'cheesesteak', 'africa', 'large', 'brul', 'syrups', 'quick', 'low', 'savoury', 'room', 'artichoke', 'vin', 'potato', 'cramped', 'plenty', 'cool', 'philly', 'menu', 'apricot', 'lomo', 'order', 'try', 'boscaiola', 'faves', 'portions', 'patronize', 'soups', 'time', 'home', 'fee', 'grimaldi', 'luncheon', 'friends', 'warms', 'rude', 'look', 'napkin', 'impress', 'juice', 'ask', 'talking', 'straw', 'noho', 'cards', 'tick', 'costly', 'oasis', 'expensive', 'location', 'chewing', 'athens', 'odors', 'wonderfully', 'attention', 'overcooked', 'gyros', 'smelled', 'kitchen', 'mariniere', 'host', 'sensation', 'madison', 'nose', 'santorini', 'missing', 'steaks', 'slateado', 'owners', 'iphone', 'cappuccino', 'goulash', 'tropical', 'feta', 'pepper', 'reviews', 'pie', 'vodka', 'lets', 'gestellt', 'crispy', 'lunchmates', 'life', 'roast', 'authentic', 'margarita', 'healthy', 'felt', 'duck', 'better', 'early', 'facility', 'totally', 'lamb', 'agree', 'review', 'yelp', 'serving', 'ate', '11', 'dish', 'calamari', 'adequate', 'marseilles', 'reservation', 'knowledgable', 'sublime', 'ras', 'sit', 'box', 'tourist', 'tip', 'riko', 'experience', 'ªl', 'vegetable', 'selection', 'snacks', 'friday', 'slices', 'bring', 'ventilation', 'mediterranean', 'burger', 'merrill', 'greeks', 'pikilia', 'tzatziki', 'diavola', 'red', 'gigantic', 'served', 'hummus', 'visit', 'tables', 'tastes', 'peppinos', 'table', 'lentil', 'creme', 'fight', 'mmmm', 'brick', 'cauliflower', 'oily', 'food', 'tzadziki', 'shop', 'like', 'buttery', 'olives', 'fries', 'fabulous', 'awesome', 'flair', 'bruschetta', 'business', 'software', 'san', 'cow', 'inspection', 'accommodates', 'pretentious', 'tray', 'corkage', 'comes', 'carpaccio', 'tortilla', 'simply', 'trout', 'place', 'best', 'cinnamon', 'nderfamilie', 'pleasant', 'dinner', 'boring', 'crave', 'takeout', 'chicago', 'spring', 'shroom', 'ramone', 'block', 'gentrified', 'hills', 'sunday', 'deli', 'addiction', 'ordering', 'choices', 'little', 'prima', 'bagged', 'lacklustre', 'diet', 'morning', 'living', 'greece', 'sushi', 'lively', 'eating', 'greek', 'accommodate', 'celebrate', 'orders', 'foodie', 'yelpers', 'destination', 'rich', 'worthy', 'eclectic', 'intimate', 'bean', 'baklava', 'cheese', 'ben', 'ave', 'mousaka', '7pm', 'umami', 'splurge', 'baked', 'benches', 'chipirones', 'mousse', 'cute', 'quarter', 'coming', 'neighborhood', 'variety', 'tzaziki', 'boutique', 'margherita', 'taverna', 'mimosas', 'seats', 'rare', 'deliver', 'beet', 'cuisine', 'come', 'lived', 'liquor', 'definitely', 'light', 'coq', 'really', 'rocked', 'slice', 'grilled', 'omelette', 'yummers', 'sangwiches', 'omelettes', 'priced', 'leaves', 'boroughs', 'bowl', 'scrambled', 'mediocre', 'walnut', 'works', 'private', 'bench', 'fat', 'smoked', 'gedacht', 'brim', 'logo', 'wife', 'croquettes', 'mins', 'yogurt', 'dekalb', 'makes', 'topping', 'noticed', 'mood', 'cocktail', 'tax', 'sandwich', 'culinary', 'equally', 'style', 'charming', 'town', 'quiet', 'superb', 'solid', 'attitude', 'lent', 'nook', 'amazingly', 'waitstaff', 'visiting', 'desert', 'comfort', 'meats', 'pitas', 'soso', 'delish', 'mignon', 'drinks', 'omg', 'taste', 'polite', 'orecciette', 'relaxed', 'smaller', 'squash', 've', 'mimosa', 'salteado', 'interior', 'feels', 'say', 'blanca', 'puked', 'egg', 'scramble', 'einfach', 'reminds', 'tiropitakia', '15', 'critic', 'key', 'bistro', 'south', 'impeccable', 'probably', 'love', 'wait', 'flamenco', 'tast', 'guests', 'space', 'recommendation', 'pastas', 'booked', 'half', 'cocktails', 'straddled', 'tapas', 'california', 'saturdays', 'huge', 'yummy', 'gigantes', 'prosciutto', 'break', 'bit', 'serrano', 'soda', '1030am', 'servers', 'delivered', 'busy', 'nice', 'plus', 'slope', 'hole', 'price', 'aioli', 'topped', 'bay', 'dressing', 'sullivan', 'eat', 'toasts', 'tender', 'pricey', 'flamengo', 'stroller', 'city', 'koftikas', 'diavolo', 'loved', 'serve', 'chewy', 'sour', 'eggs', 'establishments', 'addictive', 'artichokes', 'unremarkable', 'favorite', 'spoon', 'iced', 'dressings', 'sew', 'sage', 'sangrias', 'fussy', 'cooked', 'disappoint', 'bowls', 'smoke', 'paris', 'coffee', 'lettuce', 'sundays', 'sure', 'seating', 'avgolemeno', 'apartment', '10', 'macaroni', 'loud', 'peperoni', 'chomping', 'highly', 'candle', 'haven', 'beans', 'especially', 'containers', 'eatery', 'dining', 'god', 'almond', 'eats', 'bedford', 'wonderful', 'starches', 'basic', 'advise', 'chunks', 'lovely', 'delayed', 'succulent', 'pizzerias', 'soup', 'baixas', 'moussaka', 'staff', 'local', 'tomatoes', 'birthday', 'triangles', 'chix', 'moderately', 'hung', 'milwaukee', 'great', 'desserts', 'park', 'rias', 'french', 'district', 'mango', 'stopped', 'note', 'lunch', 'socks', 'portobello', 'menus', 'fast', 'cons', 'service', 'alcohol', 'serves', 'cigars', 'crisp', 'solo', 'meals', 'combination', 'afternoon', 'posting', 'haphazard', 'greeting', 'homemade', 'flavorless', 'combo', 'clean', 'papardelle', 'dancers', 'drink', 'bite', 'artisanal', 'restaurant', 'brewed', '30pm', 'date', 'tuscany', 'peppino', 'hour', 'customer', 'snack', 'stagioni', 'chickpea', 'rainy', 'tuscan', 'inside', 'decent', 'crowded', 'atmosphere', 'accommodated', 'greens', 'sooooooooooooo', 'meal', 'gambas', 'falafel', 'marry', 'chair', 'absolutely', 'salads', 'conversation', 'cash', 'celebrating', 'pepperoni', 'regular', 'broth', 'door', 'downtown', 'spots', 'rating', 'winners', 'incredible', 'hostess', 'lukewarm', 'lunches', '16', 'ravioli', 'lap', 'penne', 'came', 'super', 'smell', 'gericht', 'beers', 'going', 'brunch', 'ambience', 'given', 'meze', 'quattro', 'decor', 'canned', 'credibility', 'eater', 'pizzas', 'tapa', 'benedict', 'waitress', 'shrimp', 'melt', 'day', 'called', 'favorites', 'rudeness', 'apt', 'bbq', 'puff', 'fumes', 'kashkaval', '44th', 'yumminess', 'fantastic', 'appetizer', 'visitors', 'mashed', 'garlic', 'italian', 'heaven', 'ground', 'modest', 'avgolemono', 'beer', 'waiters', 'blt', 'picks', 'disappointment', 'reservations', 'polish', 'kind', 'nuts', 'monday', 'bad', 'milky', 'tomato', 'familie', 'bagging', 'manager', 'patrons', 'welcoming', 'serviceminded', 'cook', 'stuck', 'prix']\n"
          ]
        }
      ]
    },
    {
      "cell_type": "code",
      "source": [
        "len(loaded_restaurant_words_list)"
      ],
      "metadata": {
        "colab": {
          "base_uri": "https://localhost:8080/"
        },
        "id": "8QmO6pMnmR_H",
        "outputId": "ff0f30ae-fda7-4312-e988-19946e83c0ce"
      },
      "execution_count": null,
      "outputs": [
        {
          "output_type": "execute_result",
          "data": {
            "text/plain": [
              "1071"
            ]
          },
          "metadata": {},
          "execution_count": 49
        }
      ]
    },
    {
      "cell_type": "markdown",
      "source": [
        "FINAL DATASET"
      ],
      "metadata": {
        "id": "xC9B8-cmiDkm"
      }
    },
    {
      "cell_type": "code",
      "source": [
        "final_keywords = list(set(restaurant_words_list)-set(loaded_product_words_list))"
      ],
      "metadata": {
        "id": "rCiRo9cdmjxV"
      },
      "execution_count": null,
      "outputs": []
    },
    {
      "cell_type": "code",
      "source": [
        "with open('restaurant-product.json', 'w') as file:\n",
        "    json.dump(final_keywords, file)"
      ],
      "metadata": {
        "id": "S2HHMKsUKZ_g"
      },
      "execution_count": null,
      "outputs": []
    },
    {
      "cell_type": "code",
      "source": [
        "final_keywords"
      ],
      "metadata": {
        "id": "oScjPOaepq0p"
      },
      "execution_count": null,
      "outputs": []
    },
    {
      "cell_type": "code",
      "source": [
        "len(final_keywords)"
      ],
      "metadata": {
        "colab": {
          "base_uri": "https://localhost:8080/"
        },
        "id": "a-uPEknW4ruE",
        "outputId": "c029fbda-9c00-49a5-9cd0-0e1e7022df6b"
      },
      "execution_count": null,
      "outputs": [
        {
          "output_type": "execute_result",
          "data": {
            "text/plain": [
              "881"
            ]
          },
          "metadata": {},
          "execution_count": 73
        }
      ]
    }
  ]
}