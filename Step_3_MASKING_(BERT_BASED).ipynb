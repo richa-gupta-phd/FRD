{
  "nbformat": 4,
  "nbformat_minor": 0,
  "metadata": {
    "colab": {
      "provenance": []
    },
    "kernelspec": {
      "name": "python3",
      "display_name": "Python 3"
    },
    "language_info": {
      "name": "python"
    }
  },
  "cells": [
    {
      "cell_type": "code",
      "source": [
        "import random\n",
        "import json"
      ],
      "metadata": {
        "id": "le8AeYvqO87-"
      },
      "execution_count": null,
      "outputs": []
    },
    {
      "cell_type": "code",
      "execution_count": null,
      "metadata": {
        "id": "5ZCP9QJdOvEK"
      },
      "outputs": [],
      "source": [
        "#This function replaces 80% of the keywords with [MASK] token and 20% with the target keywords. This is consistent with the working of BERT masked modeling\n",
        "\n",
        "def mask_sentences(sentences, source_words, target_words):\n",
        "    masked_sentences = []\n",
        "\n",
        "    for sentence in sentences:\n",
        "        # Mask all words from the source_words list\n",
        "        masked_sentence = [\"[MASK]\" if word in source_words else word for word in sentence.split()]\n",
        "\n",
        "        # Get the indices of masked words\n",
        "        masked_indices = [i for i, word in enumerate(masked_sentence) if word == \"[MASK]\"]\n",
        "\n",
        "        # Randomly select the indices to replace\n",
        "        replace_indices = random.sample(masked_indices, min(int(0.2 * len(masked_indices)), len(masked_indices)))\n",
        "\n",
        "        # Randomly replace the selected indices with words from target_words\n",
        "        for i in replace_indices:\n",
        "            masked_sentence[i] = random.choice(target_words)\n",
        "\n",
        "        masked_sentences.append(\" \".join(masked_sentence))\n",
        "\n",
        "    return masked_sentences"
      ]
    },
    {
      "cell_type": "code",
      "source": [
        "# Load the keywords from the file\n",
        "with open('product minus hotel.json', 'r') as file:\n",
        "    source_words = json.load(file)\n",
        "\n",
        "# Now, loaded_hotel_words contains the list of keywords\n",
        "print(source_words)"
      ],
      "metadata": {
        "id": "L21Jnff1M9B1"
      },
      "execution_count": null,
      "outputs": []
    },
    {
      "cell_type": "code",
      "source": [
        "# Load the keywords from the file\n",
        "with open('hotel_words_list.json', 'r') as file:\n",
        "    target_words = json.load(file)\n",
        "\n",
        "# Now, loaded_hotel_words contains the list of keywords\n",
        "print(target_words)"
      ],
      "metadata": {
        "id": "sBGn7DmyM93m"
      },
      "execution_count": null,
      "outputs": []
    },
    {
      "cell_type": "code",
      "source": [
        "import pandas as pd\n",
        "# Load the entire dataframe from CSV, not just one column\n",
        "df = pd.read_csv(\"(original Hotel) deceptive-opinion .csv\")"
      ],
      "metadata": {
        "id": "4ZVYTB0Q-TMY"
      },
      "execution_count": null,
      "outputs": []
    },
    {
      "cell_type": "code",
      "source": [
        "df.head()"
      ],
      "metadata": {
        "id": "l-VfJL5N-g98"
      },
      "execution_count": null,
      "outputs": []
    },
    {
      "cell_type": "code",
      "source": [
        "old_label_name = 'deceptive'\n",
        "new_label_name = 'Label'\n",
        "\n",
        "# Change the column name\n",
        "df.rename(columns={old_label_name: new_label_name}, inplace=True)\n",
        "\n",
        "old_review_name = 'text'\n",
        "new_review_name = 'Review'\n",
        "\n",
        "# Change the column name\n",
        "df.rename(columns={old_review_name: new_review_name}, inplace=True)\n",
        "\n",
        "df['Label'] = df['Label'].replace({'truthful': 1, 'deceptive': 0})"
      ],
      "metadata": {
        "id": "vU5buV5X-RSo"
      },
      "execution_count": null,
      "outputs": []
    },
    {
      "cell_type": "code",
      "source": [
        "#sometimes this is needed or else above code is used\n",
        "df['Label'] = df['Label'].replace({-1:0})"
      ],
      "metadata": {
        "id": "tnFZ3f6s_H92"
      },
      "execution_count": null,
      "outputs": []
    },
    {
      "cell_type": "code",
      "source": [
        "#pick 1600 reviews, 800 fake and 800 real. user can increase or decrease this number.\n",
        "df = pd.concat([df[df['Label'] == label].sample(800, random_state=42) for label in [0, 1]]).sample(frac=1, random_state=42).reset_index(drop=True)\n"
      ],
      "metadata": {
        "id": "hPVCGhwM-jtR"
      },
      "execution_count": null,
      "outputs": []
    },
    {
      "cell_type": "code",
      "source": [
        "# IMPORTANT\n",
        "# adjust the column index to review column. 1st column is treated as 0\n",
        "sentences_column_index = 1\n",
        "\n",
        "# Convert all sentences to lowercase\n",
        "df.iloc[:, sentences_column_index] = df.iloc[:, sentences_column_index].str.lower()\n",
        "\n",
        "# Apply the masking function to create a new column for masked sentences\n",
        "df['masked_sentences'] = mask_sentences(df.iloc[:, sentences_column_index], source_words, target_words)\n",
        "\n",
        "\n",
        "# Save the dataframe with all original columns plus the masked sentences to a new CSV file\n",
        "df.to_csv(\"masked_ProducttoHotel.csv\", index=False)\n"
      ],
      "metadata": {
        "id": "7-7tKfJtQVuR"
      },
      "execution_count": null,
      "outputs": []
    },
    {
      "cell_type": "code",
      "source": [
        "# Read back the output file to check its contents\n",
        "output_df = pd.read_csv(\"masked_ProducttoHotel.csv\")\n",
        "\n",
        "# Display the first few rows of the dataframe\n",
        "print(output_df.head())\n"
      ],
      "metadata": {
        "id": "ikK4f4vmPJmn"
      },
      "execution_count": null,
      "outputs": []
    }
  ]
}